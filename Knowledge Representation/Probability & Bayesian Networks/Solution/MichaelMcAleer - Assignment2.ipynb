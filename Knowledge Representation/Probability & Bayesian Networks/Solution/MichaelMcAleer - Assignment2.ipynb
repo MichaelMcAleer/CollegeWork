{
 "cells": [
  {
   "cell_type": "markdown",
   "metadata": {},
   "source": [
    "# Probability & Bayesian Networks"
   ]
  },
  {
   "cell_type": "code",
   "execution_count": 1,
   "metadata": {},
   "outputs": [],
   "source": [
    "from probability import *\n",
    "import itertools\n",
    "\n",
    "# Set shortened constants for True/False\n",
    "T, F = True, False"
   ]
  },
  {
   "cell_type": "markdown",
   "metadata": {},
   "source": [
    "## Part 1 - Probability Distribution - Basics\n",
    "A) You have an unbiased six-sided dice a . The die is rolled twice to generate the outcomes X1 and X2. Using the code made available from the AIMA data repo, calculate the probability of generating SnakeEyes (1,1 - each 1 is rolled in succession rather than two dice together) and print out the probability:<br>\n",
    "**Expected output:** “Probability of Snake Eyes is **X**” where X is the probability"
   ]
  },
  {
   "cell_type": "code",
   "execution_count": 2,
   "metadata": {},
   "outputs": [
    {
     "name": "stdout",
     "output_type": "stream",
     "text": [
      "Probability of Snake Eyes is: 0.027777777777777776\n"
     ]
    }
   ],
   "source": [
    "# Assign each side of a dice their probability\n",
    "p = ProbDist(freqs={'1': 1, '2': 1, '3': 1, '4': 1, '5': 1, '6': 1})\n",
    "\n",
    "# Create joint probability distribution object with two die\n",
    "variables = ['X1', 'X2']\n",
    "j = JointProbDist(variables)\n",
    "\n",
    "# For two rolls of a die, get all possible combinations\n",
    "dice_sides = [1, 2, 3, 4, 5, 6]\n",
    "two_dice_rolls = [p for p in itertools.product(dice_sides, repeat=2)]\n",
    "\n",
    "# For each combination calculate the probability dependent on the\n",
    "# probability of each side of the dice from p, assign that combo and\n",
    "# probability to joint probability object\n",
    "for combo in two_dice_rolls:\n",
    "    j[combo[0], combo[1]] = p[str(combo[0])] * p[str(combo[1])]\n",
    "\n",
    "# Output the probability of rolling two ones\n",
    "print(\"Probability of Snake Eyes is: {}\".format(j[1, 1]))"
   ]
  },
  {
   "cell_type": "markdown",
   "metadata": {},
   "source": [
    "## Part 2 - Constructing a Bayesian Network\n",
    "Construct a Bayes net using the BayesNet class for the following scenario:\n",
    "\n",
    "You have a daily commute to work, a number of considerations that can affect your commute. You also have a temperamental boss, if your late he/she will typically berate you over the phone which will leave you feeling dejected for the day. Sometimes you use the Motorway to make up time and avoid being late.\n",
    "\n",
    "**Variables:** Traffic (T), Rain (R), Motorway (M), Late (L), BossCalls (B)<br>\n",
    "**Network Topology:**\n",
    "- Sometimes you decide to take the Motorway\n",
    "- Rain can result in you being late\n",
    "- Traffic can result in you being late\n",
    "- Being late can cause your boss to call\n",
    "\n",
    "A) Draw the Bayesian Network\n",
    "\n",
    "![Late Bayes Network](https://i.ibb.co/Bjtsq2P/Blank-Diagram-1.jpg)"
   ]
  },
  {
   "cell_type": "markdown",
   "metadata": {},
   "source": [
    "B) Using the BayesNode code from the AIMA repository create a Bayesian Network (BN) based on this scenario. "
   ]
  },
  {
   "cell_type": "code",
   "execution_count": 3,
   "metadata": {},
   "outputs": [],
   "source": [
    "# Construct the Bayes Network, parent nodes first to be defined, then all\n",
    "# subsequent children\n",
    "workCommute = BayesNet([\n",
    "    ('Rain', '', 0.41),\n",
    "    ('Traffic', '', 0.15),\n",
    "    ('MotorWay', '', 0.01),\n",
    "    ('Late', 'Rain Traffic MotorWay',\n",
    "     {(T, T, T): 0.8,\n",
    "      (T, T, F): 0.98,\n",
    "      (T, F, T): 0.2,\n",
    "      (T, F, F): 0.3,\n",
    "      (F, T, T): 0.25,\n",
    "      (F, T, F): 0.24,\n",
    "      (F, F, T): 0.001,\n",
    "      (F, F, F): 0.05}),\n",
    "    ('BossCalls', 'Late', {T: 0.8, F: 0.1})])"
   ]
  },
  {
   "cell_type": "markdown",
   "metadata": {},
   "source": [
    "C) Write a query to output the CPT for the “Late” node."
   ]
  },
  {
   "cell_type": "code",
   "execution_count": 4,
   "metadata": {},
   "outputs": [
    {
     "name": "stdout",
     "output_type": "stream",
     "text": [
      "------------------------------------------------\n",
      "    Rain   Traffic   Motorway   Probability Late\n",
      "------------------------------------------------\n",
      "    True      True       True                0.8\n",
      "    True      True      False               0.98\n",
      "    True     False       True                0.2\n",
      "    True     False      False                0.3\n",
      "   False      True       True               0.25\n",
      "   False      True      False               0.24\n",
      "   False     False       True              0.001\n",
      "   False     False      False               0.05\n"
     ]
    }
   ],
   "source": [
    "def print_table(table):\n",
    "    \"\"\"\n",
    "    Print a formatted table.\n",
    "\n",
    "    :param table: (list) Nested list, each list represents a row in the table.\n",
    "    \"\"\"\n",
    "    longest_cols = [\n",
    "        (max([len(str(row[i])) for row in table]) + 3)\n",
    "        for i in range(len(table[0]))\n",
    "    ]\n",
    "    row_format = \"\".join(\n",
    "        [\"{:>\" + str(longest_col) + \"}\" for longest_col in longest_cols])\n",
    "    counter = 0\n",
    "    for row in table:\n",
    "        if counter == 0:\n",
    "            dash = '-' * 48\n",
    "            print(dash)\n",
    "            print(row_format.format(*row))\n",
    "            print(dash)\n",
    "        else:\n",
    "            print(row_format.format(*row))\n",
    "        counter += 1\n",
    "        \n",
    "# Calculate CPT for being late\n",
    "late_cpt = workCommute.variable_node('Late').cpt\n",
    "\n",
    "# Get headings and rows for CPT, output using print_table()\n",
    "headings = ['Rain', 'Traffic', 'Motorway', 'Probability Late']\n",
    "table = list()\n",
    "table.append(headings)\n",
    "# For each combination in the CPT, extract tuple values and assign\n",
    "# probability, append to table list for output to table\n",
    "for k, v in late_cpt.items():\n",
    "    row = [str(k[0]), str(k[1]), str(k[2]), v]\n",
    "    table.append(row)\n",
    "# Output table\n",
    "print_table(table)"
   ]
  },
  {
   "cell_type": "markdown",
   "metadata": {},
   "source": [
    "D) Using the BN from Qii, write the python query to answer the following queries:\n",
    "- You took the Motorway\n",
    "- The boss does not call given that you are late\n",
    "- You are late when its raining & there is traffic as you took the Motorway"
   ]
  },
  {
   "cell_type": "code",
   "execution_count": 5,
   "metadata": {},
   "outputs": [
    {
     "name": "stdout",
     "output_type": "stream",
     "text": [
      "\n",
      "Probability you took the motorway: 0.01\n",
      "Probability the boss does not call given that you are late: 0.19999999999999996\n",
      "Probability you are late when it's raining & there is traffic as you took the motorway: 0.8\n"
     ]
    }
   ],
   "source": [
    "# Calculate probability that the MotorWay was taken by invoking True\n",
    "# probability of variable node 'MotorWay'\n",
    "print(\"\\nProbability you took the motorway: {}\".format(\n",
    "    workCommute.variable_node('MotorWay').p(T, 'MotorWay')))\n",
    "\n",
    "# Calculate probability the boss does not call if you are late by False\n",
    "# probability of variable node 'BossCalls' given that 'Late' is True\n",
    "print(\"Probability the boss does not call given that you are late: \"\n",
    "      \"{}\".format(workCommute.variable_node('BossCalls').p(F, {'Late': T})))\n",
    "\n",
    "# Calculate probability you are late then its raining, there is traffic,\n",
    "# and you took the motorway by invoking the variable node 'Late' given\n",
    "# that Rain/Traffic/MotorWay all resolve to True\n",
    "print(\"Probability you are late when it's raining & there is traffic as \"\n",
    "      \"you took the motorway: {}\".format(\n",
    "        workCommute.variable_node('Late').p(T, {'Rain': T,\n",
    "                                                'Traffic': T,\n",
    "                                                'MotorWay': T})))"
   ]
  },
  {
   "cell_type": "markdown",
   "metadata": {},
   "source": [
    "## Part 3 - Exact Inference in Bayesian Network\n",
    "A) Implement the following queries:<br>\n",
    "- It is raining when the Boss calls **X**% of the time<br>\n",
    "- It is not raining when the Boss calls **X**% of the time<br>"
   ]
  },
  {
   "cell_type": "code",
   "execution_count": 6,
   "metadata": {},
   "outputs": [
    {
     "name": "stdout",
     "output_type": "stream",
     "text": [
      "It is raining when the bass calls 63.101% of the time\n",
      "It is raining when the bass calls 36.899% of the time\n"
     ]
    }
   ],
   "source": [
    "# Calculate the probability it is raining when the boss calls\n",
    "ans_dist_a = enumeration_ask('Rain', {'BossCalls': T}, workCommute)\n",
    "print(\"It is raining when the bass calls {:.3f}% of the time\".format(\n",
    "        ans_dist_a[T] * 100))\n",
    "print(\"It is raining when the bass calls {:.3f}% of the time\".format(\n",
    "        ans_dist_a[F] * 100))"
   ]
  },
  {
   "cell_type": "markdown",
   "metadata": {},
   "source": [
    "- There is traffic when the Boss calls around **X**% of the time.\n",
    "- There is no traffic when the Boss calls **X**% of the time"
   ]
  },
  {
   "cell_type": "code",
   "execution_count": 7,
   "metadata": {},
   "outputs": [
    {
     "name": "stdout",
     "output_type": "stream",
     "text": [
      "\n",
      "There is traffic when the Boss calls 29.108% of the time\n",
      "There is traffic when the Boss calls 70.892% of the time\n"
     ]
    }
   ],
   "source": [
    "# Calculate the probability of traffic when the boss calls\n",
    "ans_dist_b = enumeration_ask('Traffic', {'BossCalls': T}, workCommute)\n",
    "print(\"\\nThere is traffic when the Boss calls {:.3f}% of the time\".format(\n",
    "        ans_dist_b[T] * 100))\n",
    "print(\"There is traffic when the Boss calls {:.3f}% of the time\".format(\n",
    "        ans_dist_b[F] * 100))"
   ]
  },
  {
   "cell_type": "markdown",
   "metadata": {},
   "source": [
    "- I am using the Motorway when the Boss calls around **X**% of the time\n",
    "- I am not using the Motorway when the Boss calls around **X**% of the time"
   ]
  },
  {
   "cell_type": "code",
   "execution_count": 8,
   "metadata": {},
   "outputs": [
    {
     "name": "stdout",
     "output_type": "stream",
     "text": [
      "\n",
      "I am using the Motorway when the Boss calls around 0.805% of the time\n",
      "I am not using the Motorway when the Boss calls around 99.195% of the time\n"
     ]
    }
   ],
   "source": [
    "# Calculate the probability of using the MotorWay when the boss calls\n",
    "ans_dist_c = enumeration_ask('MotorWay', {'BossCalls': T}, workCommute)\n",
    "print(\"\\nI am using the Motorway when the Boss calls around {:.3f}% of \"\n",
    "      \"the time\".format(ans_dist_c[T] * 100))\n",
    "print(\"I am not using the Motorway when the Boss calls around {:.3f}% of \"\n",
    "      \"the time\".format(ans_dist_c[F] * 100))"
   ]
  },
  {
   "cell_type": "markdown",
   "metadata": {},
   "source": [
    "- The Boss calls when it is raining and there is Traffic around **X**% of the time\n",
    "- The Boss does not call when it is raining and there is Traffic around **X**% of the time"
   ]
  },
  {
   "cell_type": "code",
   "execution_count": 9,
   "metadata": {},
   "outputs": [
    {
     "name": "stdout",
     "output_type": "stream",
     "text": [
      "\n",
      "The Boss calls when it is raining and there is Traffic around 78.474% of the time\n",
      "The Boss does not calls when it is raining and there is Traffic around 21.526% of the time\n"
     ]
    }
   ],
   "source": [
    "# Calculate the probability it is raining and there is traffic when the boss calls\n",
    "ans_dist_d = enumeration_ask('BossCalls', {'Rain': T, 'Traffic': T}, workCommute) \n",
    "print(\"\\nThe Boss calls when it is raining and there is Traffic around \"\n",
    "      \"{:.3f}% of the time\".format(ans_dist_d[T] * 100))\n",
    "print(\"The Boss does not calls when it is raining and there is Traffic \"\n",
    "      \"around {:.3f}% of the time\".format(ans_dist_d[F] * 100))"
   ]
  },
  {
   "cell_type": "markdown",
   "metadata": {},
   "source": [
    "### Part 2\n",
    "Q) Explain how inference by enumeration works? Particularly in relation to your answer for the prior question.\n",
    "\n",
    "A) Inference by enumeration works by summing out the variables from the joint probability distribution without actually constructing its explicit representation. \n",
    "\n",
    "The process involves stating all marginal probabilities needed, determining all the atomic probabilities needed, calculating and combinign them.  General inference queries will have the following attributes:\n",
    "\n",
    "Observed evidence variables: <br><br>$$E=e1, e1, e2$$<br> \n",
    "Query variables, or variables we wish to know the probability of: <br><br>$$Q.$$<br>\n",
    "Hidden variables, variables that are along for the ride but that we don't care about: <br><br>$$H=h1,h2....hn$$<br>\n",
    "So the general query structure would be: <br><br>$$P(Q|e1,e2,...,en)$$<br>\n",
    "\n",
    "Given the general query structure, the simple query in the late for work network 'The Boss calls when it is raining and there is Traffic around **X** % of the time' can be reperesented as: <br><br>$$P(Boss Calls | raining = True, traffic = true)$$<br>\n",
    "\n",
    "This general query has the following attributes:\n",
    "- Query: *Boss calls = True*\n",
    "- Observed evidence variables: *Raining = True, Traffic = True*\n",
    "- Hidden variables:\n",
    "    - If the *MotorWay* was taken\n",
    "    - If we were *late*\n",
    "\n",
    "Taking what is known results in the following equation:\n",
    "$$P(B\\ |\\ r,\\ t)$$<br>\n",
    "\n",
    "Which can be further expanded to give:\n",
    "$$=\\frac{P(r\\ |\\ B)P(t\\ |\\ B)P(B)}{P(r)P(t)}$$ <br>\n",
    "\n",
    "Since we know $\\alpha\\ = P(r)P(t)$ the equation can be written as:\n",
    "$$=\\alpha\\ P(r\\ |\\ B)P(t\\ |\\ B)P(B)$$ <br>\n",
    "\n",
    "And because we can assume B is 1 because B is True, the calculations of determining B are irreleveant the equation can be further shortened to:\n",
    "$$=\\alpha\\ P(r)P(t)P(B)$$\n",
    "$$=\\alpha\\ P(B, r, t)$$ <br>\n",
    "\n",
    "The query can be answered using a Bayesian network by computing sums of products of conditional probabilities from the network.  It is possible at this point to sum in the unseen events 'Late (l)' and 'MotorWay (m)':\n",
    "$$=\\alpha\\ \\Sigma{m}\\ \\Sigma{l}\\ P(B, r, t, m, l)$$ <br>\n",
    "\n",
    "Following the semantics of Bayesian networks and CPT entries the the following expression emerges (we are only interested in *BossCalls=True*):\n",
    "$$=\\alpha\\ \\Sigma{m}\\ \\Sigma{l}\\ P(B)P(m)P(l\\ | r,t,m)P(B\\ | l)$$ <br>\n",
    "\n",
    "As *BossCalls=True* is our constant it can be moved outside the summations over m and l, and m can be moved outside the summation over l giving:\n",
    "$$=\\alpha\\ P(B) \\Sigma{m}\\ P(m) \\Sigma{l}\\ P(l\\ | r,t,m)P(B\\ | l)$$ <br>\n",
    "\n",
    "This excpression is evaluated by looping through the variables in order, multiplying CPT entries as it goes. For each summation, it is necessary to loop over the variable's possible values.  This is the function of methods *enumerate_ask()* and *enumerate_all()* in probability.py in the AIMA repo.\n",
    "\n",
    "Using the numbers from the provided CPTs, the equation yields (after normalisation with $\\alpha$) a split of 0.99195/0.00805 in favour of the boss calling when it is raining and there is traffic.\n"
   ]
  },
  {
   "cell_type": "code",
   "execution_count": null,
   "metadata": {},
   "outputs": [],
   "source": []
  }
 ],
 "metadata": {
  "kernelspec": {
   "display_name": "Python 3",
   "language": "python",
   "name": "python3"
  },
  "language_info": {
   "codemirror_mode": {
    "name": "ipython",
    "version": 3
   },
   "file_extension": ".py",
   "mimetype": "text/x-python",
   "name": "python",
   "nbconvert_exporter": "python",
   "pygments_lexer": "ipython3",
   "version": "3.7.0"
  }
 },
 "nbformat": 4,
 "nbformat_minor": 2
}

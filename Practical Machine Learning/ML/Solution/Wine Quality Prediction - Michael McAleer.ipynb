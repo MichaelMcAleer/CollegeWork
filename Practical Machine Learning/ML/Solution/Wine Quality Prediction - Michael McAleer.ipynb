{
 "cells": [
  {
   "cell_type": "markdown",
   "metadata": {},
   "source": [
    "# A Study on the Impact of Wine Quality Classification using Highly Imbalanced Data"
   ]
  },
  {
   "cell_type": "markdown",
   "metadata": {},
   "source": [
    "##  1. Importing Required Packages, Libraries & Data Set"
   ]
  },
  {
   "cell_type": "code",
   "execution_count": 1,
   "metadata": {},
   "outputs": [],
   "source": [
    "import matplotlib.pyplot as plt\n",
    "import numpy as np\n",
    "import pandas as pd\n",
    "import seaborn as sns\n",
    "import warnings\n",
    "\n",
    "from collections import Counter\n",
    "from imblearn.under_sampling import EditedNearestNeighbours, \\\n",
    "    NeighbourhoodCleaningRule, RandomUnderSampler, TomekLinks\n",
    "from imblearn.over_sampling import ADASYN, RandomOverSampler, SMOTE\n",
    "from imblearn.combine import SMOTEENN, SMOTETomek\n",
    "from matplotlib import style\n",
    "from sklearn import linear_model\n",
    "from sklearn import model_selection\n",
    "from sklearn import neighbors\n",
    "from sklearn.cluster import DBSCAN\n",
    "from sklearn.decomposition import PCA\n",
    "from sklearn.ensemble import AdaBoostClassifier, RandomForestClassifier, \\\n",
    "    GradientBoostingClassifier, RandomForestClassifier\n",
    "from sklearn.feature_selection import f_classif, RFECV, SelectKBest, \\\n",
    "    SelectPercentile\n",
    "from sklearn.linear_model import LogisticRegression, SGDClassifier\n",
    "from sklearn.model_selection import GridSearchCV, RandomizedSearchCV\n",
    "from sklearn.metrics import accuracy_score, classification_report\n",
    "from sklearn.neighbors import KNeighborsClassifier\n",
    "from sklearn.naive_bayes import GaussianNB\n",
    "from sklearn.preprocessing import RobustScaler\n",
    "from sklearn.svm import LinearSVC, SVC\n",
    "from sklearn.tree import DecisionTreeClassifier\n",
    "\n",
    "# Set properties for warnings, matplotlib and seaborn\n",
    "warnings.filterwarnings('always')\n",
    "warnings.filterwarnings('ignore')\n",
    "% matplotlib inline\n",
    "style.use('fivethirtyeight')\n",
    "sns.set(style='whitegrid', color_codes=True)\n",
    "\n",
    "# Import white wine data set as pandas data frame\n",
    "raw_wine_data = pd.read_csv(\"winequality-white.csv\", delimiter=';')"
   ]
  },
  {
   "cell_type": "markdown",
   "metadata": {},
   "source": [
    "### 2. Analysing The Raw Data"
   ]
  },
  {
   "cell_type": "markdown",
   "metadata": {},
   "source": [
    "### 2.1 Data sample"
   ]
  },
  {
   "cell_type": "code",
   "execution_count": 2,
   "metadata": {},
   "outputs": [
    {
     "data": {
      "text/html": [
       "<div>\n",
       "<style scoped>\n",
       "    .dataframe tbody tr th:only-of-type {\n",
       "        vertical-align: middle;\n",
       "    }\n",
       "\n",
       "    .dataframe tbody tr th {\n",
       "        vertical-align: top;\n",
       "    }\n",
       "\n",
       "    .dataframe thead th {\n",
       "        text-align: right;\n",
       "    }\n",
       "</style>\n",
       "<table border=\"1\" class=\"dataframe\">\n",
       "  <thead>\n",
       "    <tr style=\"text-align: right;\">\n",
       "      <th></th>\n",
       "      <th>fixed acidity</th>\n",
       "      <th>volatile acidity</th>\n",
       "      <th>citric acid</th>\n",
       "      <th>residual sugar</th>\n",
       "      <th>chlorides</th>\n",
       "      <th>free sulfur dioxide</th>\n",
       "      <th>total sulfur dioxide</th>\n",
       "      <th>density</th>\n",
       "      <th>pH</th>\n",
       "      <th>sulphates</th>\n",
       "      <th>alcohol</th>\n",
       "      <th>quality</th>\n",
       "    </tr>\n",
       "  </thead>\n",
       "  <tbody>\n",
       "    <tr>\n",
       "      <th>2799</th>\n",
       "      <td>6.7</td>\n",
       "      <td>0.16</td>\n",
       "      <td>0.37</td>\n",
       "      <td>1.3</td>\n",
       "      <td>0.036</td>\n",
       "      <td>45.0</td>\n",
       "      <td>125.0</td>\n",
       "      <td>0.98964</td>\n",
       "      <td>3.19</td>\n",
       "      <td>0.51</td>\n",
       "      <td>12.4</td>\n",
       "      <td>7</td>\n",
       "    </tr>\n",
       "    <tr>\n",
       "      <th>1409</th>\n",
       "      <td>7.9</td>\n",
       "      <td>0.20</td>\n",
       "      <td>0.34</td>\n",
       "      <td>1.2</td>\n",
       "      <td>0.040</td>\n",
       "      <td>29.0</td>\n",
       "      <td>118.0</td>\n",
       "      <td>0.99320</td>\n",
       "      <td>3.14</td>\n",
       "      <td>0.41</td>\n",
       "      <td>10.6</td>\n",
       "      <td>6</td>\n",
       "    </tr>\n",
       "    <tr>\n",
       "      <th>1241</th>\n",
       "      <td>7.4</td>\n",
       "      <td>0.18</td>\n",
       "      <td>0.42</td>\n",
       "      <td>2.1</td>\n",
       "      <td>0.036</td>\n",
       "      <td>33.0</td>\n",
       "      <td>187.0</td>\n",
       "      <td>0.99380</td>\n",
       "      <td>3.40</td>\n",
       "      <td>0.41</td>\n",
       "      <td>10.6</td>\n",
       "      <td>7</td>\n",
       "    </tr>\n",
       "    <tr>\n",
       "      <th>2479</th>\n",
       "      <td>6.6</td>\n",
       "      <td>0.24</td>\n",
       "      <td>0.30</td>\n",
       "      <td>13.0</td>\n",
       "      <td>0.052</td>\n",
       "      <td>18.0</td>\n",
       "      <td>143.0</td>\n",
       "      <td>0.99825</td>\n",
       "      <td>3.37</td>\n",
       "      <td>0.49</td>\n",
       "      <td>9.4</td>\n",
       "      <td>6</td>\n",
       "    </tr>\n",
       "    <tr>\n",
       "      <th>1902</th>\n",
       "      <td>8.8</td>\n",
       "      <td>0.23</td>\n",
       "      <td>0.35</td>\n",
       "      <td>10.7</td>\n",
       "      <td>0.040</td>\n",
       "      <td>26.0</td>\n",
       "      <td>183.0</td>\n",
       "      <td>0.99840</td>\n",
       "      <td>2.93</td>\n",
       "      <td>0.49</td>\n",
       "      <td>9.1</td>\n",
       "      <td>6</td>\n",
       "    </tr>\n",
       "  </tbody>\n",
       "</table>\n",
       "</div>"
      ],
      "text/plain": [
       "      fixed acidity  volatile acidity  citric acid  residual sugar  chlorides  \\\n",
       "2799            6.7              0.16         0.37             1.3      0.036   \n",
       "1409            7.9              0.20         0.34             1.2      0.040   \n",
       "1241            7.4              0.18         0.42             2.1      0.036   \n",
       "2479            6.6              0.24         0.30            13.0      0.052   \n",
       "1902            8.8              0.23         0.35            10.7      0.040   \n",
       "\n",
       "      free sulfur dioxide  total sulfur dioxide  density    pH  sulphates  \\\n",
       "2799                 45.0                 125.0  0.98964  3.19       0.51   \n",
       "1409                 29.0                 118.0  0.99320  3.14       0.41   \n",
       "1241                 33.0                 187.0  0.99380  3.40       0.41   \n",
       "2479                 18.0                 143.0  0.99825  3.37       0.49   \n",
       "1902                 26.0                 183.0  0.99840  2.93       0.49   \n",
       "\n",
       "      alcohol  quality  \n",
       "2799     12.4        7  \n",
       "1409     10.6        6  \n",
       "1241     10.6        7  \n",
       "2479      9.4        6  \n",
       "1902      9.1        6  "
      ]
     },
     "execution_count": 2,
     "metadata": {},
     "output_type": "execute_result"
    }
   ],
   "source": [
    "raw_wine_data.sample(n=5)"
   ]
  },
  {
   "cell_type": "markdown",
   "metadata": {},
   "source": [
    "### 2.2 Physiochemical Attribute Breakdown\n",
    "**Fixed acidity** - most acids involved with wine or fixed or nonvolatile (do not evaporate readily)<br>\n",
    "**Volatile acidity** - the amount of acetic acid in wine, which at too high of levels can lead to an unpleasant, vinegar taste<br>\n",
    "**Citric acid** - found in small quantities, citric acid can add 'freshness' and flavor to wines<br>\n",
    "**Residual sugar** - the amount of sugar remaining after fermentation stops, it's rare to find wines with less than 1 gram/liter and wines with greater than 45 grams/liter are considered sweet <br>\n",
    "**Chlorides** - the amount of salt in the wine <br>\n",
    "**Free sulphur dioxide** - the free form of SO2 exists in equilibrium between molecular SO2 (as a dissolved gas) and bisulfite ion; it prevents microbial growth and the oxidation of wine<br>\n",
    "**Total sulphur dioxide** - amount of free and bound forms of S02; in low concentrations, SO2 is mostly undetectable in wine, but at free SO2 concentrations over 50 ppm, SO2 becomes evident in the nose and taste of wine<br>\n",
    "**Density** - the density of water is close to that of water depending on the percent alcohol and sugar content<br>\n",
    "**pH** - describes how acidic or basic a wine is on a scale from 0 (very acidic) to 14 (very basic); most wines are between 3-4 on the pH scale <br>\n",
    "**Sulphates** - a wine additive which can contribute to sulfur dioxide gas (S02) levels, wich acts as an antimicrobial and antioxidant <br>\n",
    "**Alcohol** - the percent alcohol content of the wine <br>\n",
    "**Quality** - (target class) output variable (based on sensory data, score between 0 and 10) <br>"
   ]
  },
  {
   "cell_type": "markdown",
   "metadata": {},
   "source": [
    "### 2.3 Describing the Data\n",
    "The describe function allows for analysis of each feature of the data set including the counts, mean, max, min and standard deviation."
   ]
  },
  {
   "cell_type": "code",
   "execution_count": 3,
   "metadata": {},
   "outputs": [
    {
     "data": {
      "text/html": [
       "<div>\n",
       "<style scoped>\n",
       "    .dataframe tbody tr th:only-of-type {\n",
       "        vertical-align: middle;\n",
       "    }\n",
       "\n",
       "    .dataframe tbody tr th {\n",
       "        vertical-align: top;\n",
       "    }\n",
       "\n",
       "    .dataframe thead th {\n",
       "        text-align: right;\n",
       "    }\n",
       "</style>\n",
       "<table border=\"1\" class=\"dataframe\">\n",
       "  <thead>\n",
       "    <tr style=\"text-align: right;\">\n",
       "      <th></th>\n",
       "      <th>count</th>\n",
       "      <th>mean</th>\n",
       "      <th>std</th>\n",
       "      <th>min</th>\n",
       "      <th>25%</th>\n",
       "      <th>50%</th>\n",
       "      <th>75%</th>\n",
       "      <th>max</th>\n",
       "    </tr>\n",
       "  </thead>\n",
       "  <tbody>\n",
       "    <tr>\n",
       "      <th>fixed acidity</th>\n",
       "      <td>4898.0</td>\n",
       "      <td>6.854788</td>\n",
       "      <td>0.843868</td>\n",
       "      <td>3.80000</td>\n",
       "      <td>6.300000</td>\n",
       "      <td>6.80000</td>\n",
       "      <td>7.3000</td>\n",
       "      <td>14.20000</td>\n",
       "    </tr>\n",
       "    <tr>\n",
       "      <th>volatile acidity</th>\n",
       "      <td>4898.0</td>\n",
       "      <td>0.278241</td>\n",
       "      <td>0.100795</td>\n",
       "      <td>0.08000</td>\n",
       "      <td>0.210000</td>\n",
       "      <td>0.26000</td>\n",
       "      <td>0.3200</td>\n",
       "      <td>1.10000</td>\n",
       "    </tr>\n",
       "    <tr>\n",
       "      <th>citric acid</th>\n",
       "      <td>4898.0</td>\n",
       "      <td>0.334192</td>\n",
       "      <td>0.121020</td>\n",
       "      <td>0.00000</td>\n",
       "      <td>0.270000</td>\n",
       "      <td>0.32000</td>\n",
       "      <td>0.3900</td>\n",
       "      <td>1.66000</td>\n",
       "    </tr>\n",
       "    <tr>\n",
       "      <th>residual sugar</th>\n",
       "      <td>4898.0</td>\n",
       "      <td>6.391415</td>\n",
       "      <td>5.072058</td>\n",
       "      <td>0.60000</td>\n",
       "      <td>1.700000</td>\n",
       "      <td>5.20000</td>\n",
       "      <td>9.9000</td>\n",
       "      <td>65.80000</td>\n",
       "    </tr>\n",
       "    <tr>\n",
       "      <th>chlorides</th>\n",
       "      <td>4898.0</td>\n",
       "      <td>0.045772</td>\n",
       "      <td>0.021848</td>\n",
       "      <td>0.00900</td>\n",
       "      <td>0.036000</td>\n",
       "      <td>0.04300</td>\n",
       "      <td>0.0500</td>\n",
       "      <td>0.34600</td>\n",
       "    </tr>\n",
       "    <tr>\n",
       "      <th>free sulfur dioxide</th>\n",
       "      <td>4898.0</td>\n",
       "      <td>35.308085</td>\n",
       "      <td>17.007137</td>\n",
       "      <td>2.00000</td>\n",
       "      <td>23.000000</td>\n",
       "      <td>34.00000</td>\n",
       "      <td>46.0000</td>\n",
       "      <td>289.00000</td>\n",
       "    </tr>\n",
       "    <tr>\n",
       "      <th>total sulfur dioxide</th>\n",
       "      <td>4898.0</td>\n",
       "      <td>138.360657</td>\n",
       "      <td>42.498065</td>\n",
       "      <td>9.00000</td>\n",
       "      <td>108.000000</td>\n",
       "      <td>134.00000</td>\n",
       "      <td>167.0000</td>\n",
       "      <td>440.00000</td>\n",
       "    </tr>\n",
       "    <tr>\n",
       "      <th>density</th>\n",
       "      <td>4898.0</td>\n",
       "      <td>0.994027</td>\n",
       "      <td>0.002991</td>\n",
       "      <td>0.98711</td>\n",
       "      <td>0.991723</td>\n",
       "      <td>0.99374</td>\n",
       "      <td>0.9961</td>\n",
       "      <td>1.03898</td>\n",
       "    </tr>\n",
       "    <tr>\n",
       "      <th>pH</th>\n",
       "      <td>4898.0</td>\n",
       "      <td>3.188267</td>\n",
       "      <td>0.151001</td>\n",
       "      <td>2.72000</td>\n",
       "      <td>3.090000</td>\n",
       "      <td>3.18000</td>\n",
       "      <td>3.2800</td>\n",
       "      <td>3.82000</td>\n",
       "    </tr>\n",
       "    <tr>\n",
       "      <th>sulphates</th>\n",
       "      <td>4898.0</td>\n",
       "      <td>0.489847</td>\n",
       "      <td>0.114126</td>\n",
       "      <td>0.22000</td>\n",
       "      <td>0.410000</td>\n",
       "      <td>0.47000</td>\n",
       "      <td>0.5500</td>\n",
       "      <td>1.08000</td>\n",
       "    </tr>\n",
       "    <tr>\n",
       "      <th>alcohol</th>\n",
       "      <td>4898.0</td>\n",
       "      <td>10.514267</td>\n",
       "      <td>1.230621</td>\n",
       "      <td>8.00000</td>\n",
       "      <td>9.500000</td>\n",
       "      <td>10.40000</td>\n",
       "      <td>11.4000</td>\n",
       "      <td>14.20000</td>\n",
       "    </tr>\n",
       "    <tr>\n",
       "      <th>quality</th>\n",
       "      <td>4898.0</td>\n",
       "      <td>5.877909</td>\n",
       "      <td>0.885639</td>\n",
       "      <td>3.00000</td>\n",
       "      <td>5.000000</td>\n",
       "      <td>6.00000</td>\n",
       "      <td>6.0000</td>\n",
       "      <td>9.00000</td>\n",
       "    </tr>\n",
       "  </tbody>\n",
       "</table>\n",
       "</div>"
      ],
      "text/plain": [
       "                       count        mean        std      min         25%  \\\n",
       "fixed acidity         4898.0    6.854788   0.843868  3.80000    6.300000   \n",
       "volatile acidity      4898.0    0.278241   0.100795  0.08000    0.210000   \n",
       "citric acid           4898.0    0.334192   0.121020  0.00000    0.270000   \n",
       "residual sugar        4898.0    6.391415   5.072058  0.60000    1.700000   \n",
       "chlorides             4898.0    0.045772   0.021848  0.00900    0.036000   \n",
       "free sulfur dioxide   4898.0   35.308085  17.007137  2.00000   23.000000   \n",
       "total sulfur dioxide  4898.0  138.360657  42.498065  9.00000  108.000000   \n",
       "density               4898.0    0.994027   0.002991  0.98711    0.991723   \n",
       "pH                    4898.0    3.188267   0.151001  2.72000    3.090000   \n",
       "sulphates             4898.0    0.489847   0.114126  0.22000    0.410000   \n",
       "alcohol               4898.0   10.514267   1.230621  8.00000    9.500000   \n",
       "quality               4898.0    5.877909   0.885639  3.00000    5.000000   \n",
       "\n",
       "                            50%       75%        max  \n",
       "fixed acidity           6.80000    7.3000   14.20000  \n",
       "volatile acidity        0.26000    0.3200    1.10000  \n",
       "citric acid             0.32000    0.3900    1.66000  \n",
       "residual sugar          5.20000    9.9000   65.80000  \n",
       "chlorides               0.04300    0.0500    0.34600  \n",
       "free sulfur dioxide    34.00000   46.0000  289.00000  \n",
       "total sulfur dioxide  134.00000  167.0000  440.00000  \n",
       "density                 0.99374    0.9961    1.03898  \n",
       "pH                      3.18000    3.2800    3.82000  \n",
       "sulphates               0.47000    0.5500    1.08000  \n",
       "alcohol                10.40000   11.4000   14.20000  \n",
       "quality                 6.00000    6.0000    9.00000  "
      ]
     },
     "execution_count": 3,
     "metadata": {},
     "output_type": "execute_result"
    }
   ],
   "source": [
    "raw_wine_data.describe().T"
   ]
  },
  {
   "cell_type": "markdown",
   "metadata": {},
   "source": [
    "### 2.4 Correlations Between Columns in the Raw Data"
   ]
  },
  {
   "cell_type": "code",
   "execution_count": 4,
   "metadata": {
    "scrolled": false
   },
   "outputs": [
    {
     "data": {
      "image/png": "[encoded data removed]",
      "text/plain": [
       "<Figure size 1440x720 with 2 Axes>"
      ]
     },
     "metadata": {
      "needs_background": "light"
     },
     "output_type": "display_data"
    }
   ],
   "source": [
    "# Compute pairwise correlation of columns, excluding NA/null values\n",
    "wine_correlation = raw_wine_data.corr()\n",
    "wine_np_array = np.array(wine_correlation)\n",
    "# Return the indices for the lower-triangle of array\n",
    "wine_np_array[np.tril_indices_from(wine_np_array)] = False\n",
    "# Get a reference to the current figure & render with seaborn\n",
    "fig=plt.gcf()\n",
    "fig.set_size_inches(20, 10)\n",
    "sns.heatmap(data=wine_correlation, mask=wine_np_array, \n",
    "            square=True, cmap=\"YlGnBu\", annot=True);"
   ]
  },
  {
   "cell_type": "markdown",
   "metadata": {},
   "source": [
    "###### 2.4.1 Quality Correlation Ordered (Descending)"
   ]
  },
  {
   "cell_type": "code",
   "execution_count": 5,
   "metadata": {},
   "outputs": [
    {
     "data": {
      "text/plain": [
       "quality                 1.000000\n",
       "alcohol                 0.435575\n",
       "pH                      0.099427\n",
       "sulphates               0.053678\n",
       "free sulfur dioxide     0.008158\n",
       "citric acid            -0.009209\n",
       "residual sugar         -0.097577\n",
       "fixed acidity          -0.113663\n",
       "total sulfur dioxide   -0.174737\n",
       "volatile acidity       -0.194723\n",
       "chlorides              -0.209934\n",
       "density                -0.307123\n",
       "Name: quality, dtype: float64"
      ]
     },
     "execution_count": 5,
     "metadata": {},
     "output_type": "execute_result"
    }
   ],
   "source": [
    "wine_correlation['quality'].sort_values(ascending=False)"
   ]
  },
  {
   "cell_type": "markdown",
   "metadata": {},
   "source": [
    "### 2.5 Prediction Accuracy Before Processing"
   ]
  },
  {
   "cell_type": "code",
   "execution_count": 6,
   "metadata": {},
   "outputs": [
    {
     "name": "stdout",
     "output_type": "stream",
     "text": [
      "Accuracy: 45.510%\n",
      "Confusion matrix:\n",
      "Predicted   4    5    6    7   8  All\n",
      "Actual                               \n",
      "3           1    6    2    0   0    9\n",
      "4           3   24   20    4   0   51\n",
      "5           7  135  137   16   0  295\n",
      "6           4  111  250   40   4  409\n",
      "7           0   37   90   54   2  183\n",
      "8           0    4   19    6   4   33\n",
      "All        15  317  518  120  10  980\n"
     ]
    }
   ],
   "source": [
    "# Extract feature and target class data\n",
    "data = raw_wine_data.iloc[:, :11]\n",
    "target = raw_wine_data['quality']\n",
    "\n",
    "def check_accuracy(data, target, return_accu=False):\n",
    "    \"\"\"\n",
    "    Check the accuracy of a data set with kNeighbours Classifier using\n",
    "    a 80/20 split in favour of the training data.  The accuracy percentage\n",
    "    to 3 decimal places will be output along with the associate confusion\n",
    "    matrix showing prediction frequency distribution.\n",
    "    \n",
    "    data: (pd.DataFrame) The feature data\n",
    "    target: (pd.Series) The target class data\n",
    "    return_accu: (boolean) If the prediction accuracy float value is to be \n",
    "      returned\n",
    "    returns: (float) The prediction accuracy\n",
    "    \"\"\"\n",
    "    \n",
    "    # Split data into random train and test subsets\n",
    "    x_train, x_test, y_train, y_test = model_selection.train_test_split(\n",
    "        data, target, test_size=0.2, random_state=0)\n",
    "    # Create the model, set random_state to 0 to always replicate same \n",
    "    # results\n",
    "    model = neighbors.KNeighborsClassifier()\n",
    "    # Fit the day and run classificaion prediction task\n",
    "    model.fit(x_train, y_train)\n",
    "    y_pred = model.predict(x_test)\n",
    "    accuracy = accuracy_score(y_test, y_pred)\n",
    "    # Output results\n",
    "    print(\"Accuracy: {:.3f}%\".format(accuracy * 100))\n",
    "    print(\"Confusion matrix:\\n{}\".format(\n",
    "        pd.crosstab(y_test, y_pred, rownames=['Actual'],\n",
    "                    colnames=['Predicted'], margins=True)))\n",
    "    if return_accu:\n",
    "        return accuracy\n",
    "\n",
    "# Run the source data set with no processing applied through model to \n",
    "# get base accuracy\n",
    "check_accuracy(data, target)"
   ]
  },
  {
   "cell_type": "markdown",
   "metadata": {},
   "source": [
    "## 3. Data Pre-Processing\n",
    "Perform various pre-processing functions on data to improve performance of prediction models.<br>\n",
    "- No missing values\n",
    "- No feature encoding required\n",
    "- Dealing with outliers\n",
    "- Scaling data\n",
    "    - Standardisation vs Normalisation\n",
    "- Handling imbalance\n",
    "    - Check if any category/column is over represented\n",
    "    - Use SMOTE\n",
    "- Feature selection\n",
    "    - Several attributes correlated\n",
    "    - Univariate Feature Selection\n",
    "    - Tree-Based Feature Selection\n",
    "    - Greedy Backward Feature Selection\n",
    "- Dimensionality reduction"
   ]
  },
  {
   "cell_type": "markdown",
   "metadata": {},
   "source": [
    "### 3.1 Null/Missing Values\n",
    "It is important to filter out any null or missing values in the data set, fortunately it is possible to check for these values using the Panda's dataframe isnull() function.  Fortunately the raw data set does not contain any null or missing values so no further action is required."
   ]
  },
  {
   "cell_type": "code",
   "execution_count": 7,
   "metadata": {},
   "outputs": [
    {
     "data": {
      "text/plain": [
       "fixed acidity           0\n",
       "volatile acidity        0\n",
       "citric acid             0\n",
       "residual sugar          0\n",
       "chlorides               0\n",
       "free sulfur dioxide     0\n",
       "total sulfur dioxide    0\n",
       "density                 0\n",
       "pH                      0\n",
       "sulphates               0\n",
       "alcohol                 0\n",
       "quality                 0\n",
       "dtype: int64"
      ]
     },
     "execution_count": 7,
     "metadata": {},
     "output_type": "execute_result"
    }
   ],
   "source": [
    "raw_wine_data.isnull().sum()"
   ]
  },
  {
   "cell_type": "markdown",
   "metadata": {},
   "source": [
    "### 3.2 Encoding Categorical Data\n",
    "Encoding categorical data or dealing with nominal/ordinal values is not required for this wine quality dataset as all values are continuous variables."
   ]
  },
  {
   "cell_type": "code",
   "execution_count": 8,
   "metadata": {},
   "outputs": [
    {
     "name": "stdout",
     "output_type": "stream",
     "text": [
      "<class 'pandas.core.frame.DataFrame'>\n",
      "RangeIndex: 4898 entries, 0 to 4897\n",
      "Data columns (total 12 columns):\n",
      "fixed acidity           4898 non-null float64\n",
      "volatile acidity        4898 non-null float64\n",
      "citric acid             4898 non-null float64\n",
      "residual sugar          4898 non-null float64\n",
      "chlorides               4898 non-null float64\n",
      "free sulfur dioxide     4898 non-null float64\n",
      "total sulfur dioxide    4898 non-null float64\n",
      "density                 4898 non-null float64\n",
      "pH                      4898 non-null float64\n",
      "sulphates               4898 non-null float64\n",
      "alcohol                 4898 non-null float64\n",
      "quality                 4898 non-null int64\n",
      "dtypes: float64(11), int64(1)\n",
      "memory usage: 459.3 KB\n"
     ]
    }
   ],
   "source": [
    "raw_wine_data.info()"
   ]
  },
  {
   "cell_type": "markdown",
   "metadata": {},
   "source": [
    "## 3.3 Class Imbalance - An In-depth Look\n",
    "In the wine data set there are 11 features which are determined to contribute to the overall quality score. Using value counts it is possible to calculate the amount of representation a certain feature may have in the dataset."
   ]
  },
  {
   "cell_type": "code",
   "execution_count": 9,
   "metadata": {},
   "outputs": [
    {
     "name": "stdout",
     "output_type": "stream",
     "text": [
      "3      20\n",
      "4     163\n",
      "5    1457\n",
      "6    2198\n",
      "7     880\n",
      "8     175\n",
      "9       5\n",
      "Name: quality, dtype: int64\n"
     ]
    }
   ],
   "source": [
    "print(raw_wine_data['quality'].value_counts().sort_index())"
   ]
  },
  {
   "cell_type": "markdown",
   "metadata": {},
   "source": [
    "From the value counts of the end quality of each wine represented in the data it is clear that there is a large over representation of wine with a quality in the range of 5-7.  What this translates into is missclassification of wines in these quality regions, the confusion matrix below demostrates this.  Most predictions are reasonably close to their expected quality but the majority of predictions fall within the range of the most represented wine qualities."
   ]
  },
  {
   "cell_type": "code",
   "execution_count": 10,
   "metadata": {
    "scrolled": true
   },
   "outputs": [
    {
     "name": "stdout",
     "output_type": "stream",
     "text": [
      "Accuracy: 45.510%\n",
      "Confusion matrix:\n",
      "Predicted   4    5    6    7   8  All\n",
      "Actual                               \n",
      "3           1    6    2    0   0    9\n",
      "4           3   24   20    4   0   51\n",
      "5           7  135  137   16   0  295\n",
      "6           4  111  250   40   4  409\n",
      "7           0   37   90   54   2  183\n",
      "8           0    4   19    6   4   33\n",
      "All        15  317  518  120  10  980\n"
     ]
    }
   ],
   "source": [
    "check_accuracy(data, target)"
   ]
  },
  {
   "cell_type": "markdown",
   "metadata": {},
   "source": [
    "<div class=\"alert alert-block alert-info\">\n",
    "<b>Note:</b> All dataset resampling will be carried out using the SciKit Learn contribution package Imbalanced-Learn, more info can be found <a href=\"https://github.com/scikit-learn-contrib/imbalanced-learn\">here</a>\n",
    "</div>"
   ]
  },
  {
   "cell_type": "markdown",
   "metadata": {},
   "source": [
    "#### 3.3.1 Under-sampling\n",
    "A number of under-sampling techniques were applied to the source dataset to determine if the prediciton model accuracy could be improved upon. These techniques were:\n",
    "- Naive random under-sampling\n",
    "- Tomek links\n",
    "- Neighbourhood cleaning rule"
   ]
  },
  {
   "cell_type": "code",
   "execution_count": 11,
   "metadata": {},
   "outputs": [],
   "source": [
    "# method for applying the chosen algorithm to the data set\n",
    "def run_balancer(sampler):\n",
    "    \"\"\"\n",
    "    Run the balancer re-sampling algorith against the data.\n",
    "    \n",
    "    sampler: (object) The sampler object with paramaters set if required\n",
    "    \"\"\"\n",
    "    sampler.random_state = 0\n",
    "    # Resample the dataset and output the new data set shape\n",
    "    data_resampled, target_resampled = sampler.fit_resample(data, target)\n",
    "    print(\"Resampled data set shape: {}\".format(\n",
    "        sorted(Counter(target_resampled).items())))\n",
    "    # Check the accuracy of the new resampled data set\n",
    "    check_accuracy(data_resampled, target_resampled)"
   ]
  },
  {
   "cell_type": "markdown",
   "metadata": {},
   "source": [
    "#### Naive Random Under-Sampling\n",
    "The random under-sampler will under-sample the majority classes by randomly picking samples with or without replacement.\n",
    "\n",
    "Typically the random under-sampler will reduce all target classes to the same amount of instances to that of the lowest represented class in the dataset, in this case quality '9' with 5 instances.  This isn't desirable in this case as it would reduce our dataset from approx 5000 instances to 35 instances so would greatly impact the ability to accurately predict the wine quality when working with a large test data set.\n",
    "\n",
    "Using the resampled data the random forest classifier algorithm was run again to determine the impact on the accuracy."
   ]
  },
  {
   "cell_type": "code",
   "execution_count": 12,
   "metadata": {},
   "outputs": [
    {
     "name": "stdout",
     "output_type": "stream",
     "text": [
      "Resampled data set shape: [(3, 5), (4, 5), (5, 5), (6, 5), (7, 5), (8, 5), (9, 5)]\n",
      "Accuracy: 0.000%\n",
      "Confusion matrix:\n",
      "Predicted  3  4  8  9  All\n",
      "Actual                    \n",
      "5          1  0  0  0    1\n",
      "6          0  1  0  1    2\n",
      "7          0  1  1  0    2\n",
      "8          1  0  0  1    2\n",
      "All        2  2  1  2    7\n"
     ]
    }
   ],
   "source": [
    "run_balancer(RandomUnderSampler())"
   ]
  },
  {
   "cell_type": "markdown",
   "metadata": {},
   "source": [
    "Random under-sampling has rendered the prediction model unusable with a 0% prediction rate.\n",
    "\n",
    "Using the same random under-sampler with the sampling strategy set to majority it is possible to resample only the majority class which in this case is the quality '6'. Doing so means all other classes can be better predicted but the predicition accuracy for wines with quality '6' are rarely correctly predicted."
   ]
  },
  {
   "cell_type": "code",
   "execution_count": 13,
   "metadata": {},
   "outputs": [
    {
     "name": "stdout",
     "output_type": "stream",
     "text": [
      "Resampled data set shape: [(3, 20), (4, 163), (5, 1457), (6, 5), (7, 880), (8, 175), (9, 5)]\n",
      "Accuracy: 63.216%\n",
      "Confusion matrix:\n",
      "Predicted  3   4    5    7   8  All\n",
      "Actual                             \n",
      "3          0   0    4    1   0    5\n",
      "4          1   6   20    3   0   30\n",
      "5          1  12  220   53   2  288\n",
      "6          0   0    1    0   0    1\n",
      "7          0   4   62  108   1  175\n",
      "8          0   0   10   23   8   41\n",
      "9          0   0    0    1   0    1\n",
      "All        2  22  317  189  11  541\n"
     ]
    }
   ],
   "source": [
    "run_balancer(RandomUnderSampler(sampling_strategy='majority'))"
   ]
  },
  {
   "cell_type": "markdown",
   "metadata": {},
   "source": [
    "This under-sampling technique isn't ideal as this is by far the most represented class in the source dataset so the results are not an accurate representation of the source data or provide a good base from which to predict more wines as wine quality '6' will be the most commonly occurring.  "
   ]
  },
  {
   "cell_type": "markdown",
   "metadata": {},
   "source": [
    "#### Tomek Links Under-Sampling\n",
    "Tomek Links detect the 'Tomek's links' between two camples of different classes $x$ and $y$ such that there is no example $z $such that:<br>$d(x, y) < d(x, z) \\text{ or } d(y, z) < d(x, y)$ where $d$ is the distance between two samples.\n",
    "\n",
    "In simpler terms, a Tomek's link exists if the two samples are the nearest neighbour of each other.  In the example below only the majority classes 5, 6, and 7 have been under-sampled."
   ]
  },
  {
   "cell_type": "code",
   "execution_count": 14,
   "metadata": {},
   "outputs": [
    {
     "name": "stdout",
     "output_type": "stream",
     "text": [
      "Resampled data set shape: [(3, 20), (4, 163), (5, 1227), (6, 1871), (7, 715), (8, 175), (9, 5)]\n",
      "Accuracy: 49.880%\n",
      "Confusion matrix:\n",
      "Predicted  3   4    5    6    7  8  All\n",
      "Actual                                 \n",
      "3          1   0    2    2    0  0    5\n",
      "4          1   3   14    9    2  0   29\n",
      "5          0   6  132   97   15  1  251\n",
      "6          0   6  103  236   37  3  385\n",
      "7          0   2   22   63   40  0  127\n",
      "8          0   0    5   18   10  5   38\n",
      "9          0   0    0    1    0  0    1\n",
      "All        2  17  278  426  104  9  836\n"
     ]
    }
   ],
   "source": [
    "run_balancer(TomekLinks(sampling_strategy=[5, 6, 7]))"
   ]
  },
  {
   "cell_type": "markdown",
   "metadata": {},
   "source": [
    "The improvement in accuracy seen by the Tomek's links under-sampling technique is not as significant as that seen by the random under-sampling with majority selection. This is an interesting outcome as there is a defined strategy for defining what to under-sample with the Tomek's links technique whereas random under-sampling by nature is a random selection process."
   ]
  },
  {
   "cell_type": "markdown",
   "metadata": {},
   "source": [
    "#### Neighbourhood Cleaning Rule\n",
    "Neighborhood Cleaning Rule (NCL) modifies the Edited Nearest Neighbor method by increasing the role of data cleaning. Firstly, NCL removes negatives examples which are misclassified by their 3-nearest neighbors. Secondly, the neighbors of each positive examples are found and the ones belonging to the majority class are removed. The same sampling strategy as the Tomek's links under-sampling technique has been applied whereby only classes 5, 6, and 7 have been under-sampled."
   ]
  },
  {
   "cell_type": "code",
   "execution_count": 15,
   "metadata": {},
   "outputs": [
    {
     "name": "stdout",
     "output_type": "stream",
     "text": [
      "Resampled data set shape: [(3, 20), (4, 163), (5, 767), (6, 1301), (7, 350), (8, 175), (9, 5)]\n",
      "Accuracy: 69.300%\n",
      "Confusion matrix:\n",
      "Predicted  3   4    5    6   7   8  All\n",
      "Actual                                 \n",
      "3          1   2    0    1   1   0    5\n",
      "4          0   4    9    5   0   0   18\n",
      "5          0   7  108   36  10   1  162\n",
      "6          0   7   25  213  15   1  261\n",
      "7          0   0    3   15  53   1   72\n",
      "8          0   1    6   20   5   7   39\n",
      "All        1  21  151  290  84  10  557\n"
     ]
    }
   ],
   "source": [
    "run_balancer(NeighbourhoodCleaningRule(sampling_strategy=[5, 6, 7]))"
   ]
  },
  {
   "cell_type": "markdown",
   "metadata": {},
   "source": [
    "### 3.3.2 Over-sampling\n",
    "A number of over-sampling techniques were applied to the source dataset to determine if the prediciton model accuracy could be improved upon. These techniques were:\n",
    "- Naive random over-sampling\n",
    "- Synthetic Minority Oversampling Technique (SMOTE)\n",
    "- Adaptive Synthetic (ADASYN)\n",
    "\n",
    "#### Naive Random Over-Sampling\n",
    "The Naive random over-sampling will over-sample the minority classes by randomly picking samples from the dataset.  To do so, it will generate new samples in the classes which are under-represented. The most naive strategy is to generate new samples by randomly sampling with replacement the current available samples. "
   ]
  },
  {
   "cell_type": "code",
   "execution_count": 16,
   "metadata": {},
   "outputs": [
    {
     "name": "stdout",
     "output_type": "stream",
     "text": [
      "Resampled data set shape: [(3, 2198), (4, 2198), (5, 2198), (6, 2198), (7, 2198), (8, 2198), (9, 2198)]\n",
      "Accuracy: 81.579%\n",
      "Confusion matrix:\n",
      "Predicted    3    4    5    6    7    8    9   All\n",
      "Actual                                            \n",
      "3          447    0    0    0    0    0    0   447\n",
      "4            0  438    0    0    0    0    0   438\n",
      "5            3   31  242   83   40    8    0   407\n",
      "6            2   28  114  173   96   28    1   442\n",
      "7            0   12   48   57  320   16    0   453\n",
      "8            0    0    0    0    0  460    0   460\n",
      "9            0    0    0    0    0    0  431   431\n",
      "All        452  509  404  313  456  512  432  3078\n"
     ]
    }
   ],
   "source": [
    "run_balancer(RandomOverSampler())"
   ]
  },
  {
   "cell_type": "markdown",
   "metadata": {},
   "source": [
    "The results from the naive random over-sampling are very impressive when looking at both the accuracy and the confusion matrix. With an overall accuracy of 92% and the confusion matrix showing strong prediction stats across all classes,  minority classes have seen an improvement with over-sampling applied.  This gives an indication that clustering of each class, even in their original state as minority, were suffering more from a lack of representation than by being classed as outliers. With all classes represented equally, the majority of missclassification can now be seen as focused around the three main classes 5, 6, and 7."
   ]
  },
  {
   "cell_type": "markdown",
   "metadata": {},
   "source": [
    "#### Synthetic Minority Oversampling Technique (SMOTE)\n",
    "Unlike random over-sampling by duplicating some of the original samples of the minority class, SMOTE (and ADASYN) generate new samples by interpolation.  SMOTE will not make any distinction between easy and hard samples to be classified using the nearest neighbour rule, unlike ADASYN which focuses on generating samples next to the original samples which are wrongly classified using k-nearest neighbours."
   ]
  },
  {
   "cell_type": "code",
   "execution_count": 17,
   "metadata": {},
   "outputs": [
    {
     "name": "stdout",
     "output_type": "stream",
     "text": [
      "Resampled data set shape: [(3, 2198), (4, 2198), (5, 2198), (6, 2198), (7, 2198), (8, 2198), (9, 2198)]\n",
      "Accuracy: 78.135%\n",
      "Confusion matrix:\n",
      "Predicted    3    4    5    6    7    8    9   All\n",
      "Actual                                            \n",
      "3          431    9    5    1    0    1    0   447\n",
      "4           14  395   13   10    4    2    0   438\n",
      "5           31   39  238   58   26   12    3   407\n",
      "6           34   41   87  145   76   31   28   442\n",
      "7            8   16   20   44  335   14   16   453\n",
      "8            3    1    1    4   14  430    7   460\n",
      "9            0    0    0    0    0    0  431   431\n",
      "All        521  501  364  262  455  490  485  3078\n"
     ]
    }
   ],
   "source": [
    "run_balancer(SMOTE(k_neighbors=4))"
   ]
  },
  {
   "cell_type": "markdown",
   "metadata": {},
   "source": [
    "Just like random over-sampling, SMOTE over-sampling techniques provide a significant jump in overall accuracy whilst at the same time providing accurate predictions across all classes."
   ]
  },
  {
   "cell_type": "markdown",
   "metadata": {},
   "source": [
    "#### Adaptive Synthetic (ADASYN)\n",
    "As mentioned already, ADASYN generates new samples through interpolation by generating samples next to the original samples which are wrongly classified using k-nearest neighbours."
   ]
  },
  {
   "cell_type": "code",
   "execution_count": 18,
   "metadata": {},
   "outputs": [
    {
     "name": "stdout",
     "output_type": "stream",
     "text": [
      "Resampled data set shape: [(3, 2196), (4, 2206), (5, 2071), (6, 2198), (7, 2322), (8, 2180), (9, 2200)]\n",
      "Accuracy: 77.301%\n",
      "Confusion matrix:\n",
      "Predicted    3    4    5    6    7    8    9   All\n",
      "Actual                                            \n",
      "3          423    5    3    0    0    0    0   431\n",
      "4           15  403   11    3   11    3    0   446\n",
      "5           31   47  190   67   26   13    4   378\n",
      "6           32   48   83  136   90   32   20   441\n",
      "7           14   22   20   32  344   19   14   465\n",
      "8            2    1    5    6   13  439    6   472\n",
      "9            0    0    0    0    0    0  442   442\n",
      "All        517  526  312  244  484  506  486  3075\n"
     ]
    }
   ],
   "source": [
    "run_balancer(ADASYN(n_neighbors=4))"
   ]
  },
  {
   "cell_type": "markdown",
   "metadata": {},
   "source": [
    "ADASYN over-sampling provides both accuracy and confusion matrix results similar to that of SMOTE over-sampling, the main difference being a slight variance in the amount of samples applied to each of the classes. SMOTE over-sampling has a uniform number of samples across all classes whereas ADASYN has a slight variance in quantity."
   ]
  },
  {
   "cell_type": "markdown",
   "metadata": {},
   "source": [
    "### 3.3.3 Combination of Over and Under Sampling\n",
    "To make use of the positives from both over and under sampling there are classes of samplers which use both methods of sampling. For oversampling the SMOTE method is used, but this over-sampling method can generate noisy samples by interpolating new points between outliers and inliers, this can be solved by using the under-sampling cleaning methods Tomek's links and edited nearest-neighbours.  These two classes in the imbalanced learn library are referred to as **SMOTETomek** and **SMOTEENN**.\n",
    "\n",
    "#### SMOTEENN\n",
    "Just like Tomek, Edited Nearest Neighbor removes any example whose class label differs from the class of at least two of its three nearest neighbors. The ENN method removes the instances of the majority class whose prediction made by KNN method is different from the majority class. ENN method can remove both the noisy examples as borderline examples, providing a smoother decision surface. ENN tends to remove more examples than the Tomek links does, so it is expected that it will provide a more in depth data cleaning"
   ]
  },
  {
   "cell_type": "code",
   "execution_count": 19,
   "metadata": {},
   "outputs": [
    {
     "name": "stdout",
     "output_type": "stream",
     "text": [
      "Resampled data set shape: [(3, 1983), (4, 1784), (5, 953), (6, 395), (7, 1455), (8, 1994), (9, 2195)]\n",
      "Accuracy: 94.052%\n",
      "Confusion matrix:\n",
      "Predicted    3    4    5   6    7    8    9   All\n",
      "Actual                                           \n",
      "3          367    0    3   0    0    0    0   370\n",
      "4            2  342    3   0    2    2    0   351\n",
      "5            8   14  165   6    2    3    0   198\n",
      "6            1    6    8  44   14    5    2    80\n",
      "7            2    6    1   0  242   12   18   281\n",
      "8            0    5    0   0    1  421    2   429\n",
      "9            0    0    0   0    0    0  443   443\n",
      "All        380  373  180  50  261  443  465  2152\n"
     ]
    }
   ],
   "source": [
    "run_balancer(SMOTEENN(smote=SMOTE(k_neighbors=4)))"
   ]
  },
  {
   "cell_type": "markdown",
   "metadata": {},
   "source": [
    "#### SMOTETomek\n",
    "Tomek links can be used as an under-sampling method or as a data cleaning method. Tomek links to the over-sampled training set as a data cleaning method. Thus, instead of removing only the majority class examples that form Tomek links, examples from both classes are removed"
   ]
  },
  {
   "cell_type": "code",
   "execution_count": 20,
   "metadata": {},
   "outputs": [
    {
     "name": "stdout",
     "output_type": "stream",
     "text": [
      "Resampled data set shape: [(3, 2181), (4, 2158), (5, 2067), (6, 2019), (7, 2135), (8, 2180), (9, 2198)]\n",
      "Accuracy: 79.752%\n",
      "Confusion matrix:\n",
      "Predicted    3    4    5    6    7    8    9   All\n",
      "Actual                                            \n",
      "3          430    7    5    3    4    7    0   456\n",
      "4           14  394   12    7    6    1    1   435\n",
      "5           28   37  244   44   25    6    5   389\n",
      "6           20   38   82  125   78   29   13   385\n",
      "7           14   13   18   24  299   15   12   395\n",
      "8            3    2    2    8   17  440    5   477\n",
      "9            0    0    0    0    0    0  451   451\n",
      "All        509  491  363  211  429  498  487  2988\n"
     ]
    }
   ],
   "source": [
    "run_balancer(SMOTETomek(smote=SMOTE(k_neighbors=4)))"
   ]
  },
  {
   "cell_type": "markdown",
   "metadata": {},
   "source": [
    "### 3.4 Scaling Data & Dealing with Outliers\n",
    "First it is important to determine the outliers in the raw data, from there filtering techniques can be applied to remove the outliers"
   ]
  },
  {
   "cell_type": "code",
   "execution_count": 21,
   "metadata": {},
   "outputs": [
    {
     "data": {
      "image/png": "[encoded data removed]",
      "text/plain": [
       "<Figure size 1584x2160 with 12 Axes>"
      ]
     },
     "metadata": {
      "needs_background": "light"
     },
     "output_type": "display_data"
    }
   ],
   "source": [
    "# Get a list of all column names to run outlier algorithm against\n",
    "column_names = raw_wine_data.columns.values\n",
    "number_of_column = len(column_names)\n",
    "# Create a figure and a set of subplots\n",
    "fig, axarr = plt.subplots(6, 2, figsize=(22, 30))\n",
    "counter = 0\n",
    "# For horizontal length\n",
    "for i in range(6):\n",
    "    # For vertical length\n",
    "    for j in range(2):\n",
    "        # Do not render out a boxplot for quality x quality\n",
    "        if 'quality' not in column_names[counter]:\n",
    "            # Render a boxplot using quality for x-axis and feature\n",
    "            # attribute for y-axis\n",
    "            sns.boxplot(x='quality', y=column_names[counter], \n",
    "                        data=raw_wine_data, ax=axarr[i][j])\n",
    "            counter += 1\n",
    "    # If all features are output as boxplots, finish\n",
    "    if counter == (number_of_column - 1):\n",
    "        break"
   ]
  },
  {
   "cell_type": "markdown",
   "metadata": {},
   "source": [
    "There are a number of outliers across all categories/columns in the data as shown by the box plots above.  With some categories there are a large number of outliers so it can be determined that the calculation for determining outliers is very sensitive. <br>\n",
    "\n",
    "To deal with these the clustering tecnique DBScan will perform multivariate outlier detection, but before this can be run the data needs to be standardized. To do so, the Robist Scaler provided in the pre-processing module of SciKit Learn is used.  Robust Scaler was used over Min/Max Scaler or Standard Scaler as we are dealing with categories with a large number of outliers. Outliers can often influence the sample mean / variance in a negative way, in such cases, the median and the interquartile range often give better results. <br>"
   ]
  },
  {
   "cell_type": "code",
   "execution_count": 22,
   "metadata": {},
   "outputs": [
    {
     "data": {
      "image/png": "[encoded data removed]",
      "text/plain": [
       "<Figure size 432x288 with 1 Axes>"
      ]
     },
     "metadata": {
      "needs_background": "light"
     },
     "output_type": "display_data"
    }
   ],
   "source": [
    "# Drop the target variable from the data so the outliers \n",
    "# can be detected from the features\n",
    "X = raw_wine_data.drop('quality', 1).values\n",
    "\n",
    "# Plot the current wine quality data to get a representation \n",
    "# of outliers when determined, fixed acidity (X) and quality (Y) \n",
    "plt.scatter(X[:,0], raw_wine_data['quality']);"
   ]
  },
  {
   "cell_type": "code",
   "execution_count": 23,
   "metadata": {},
   "outputs": [
    {
     "data": {
      "text/html": [
       "<div>\n",
       "<style scoped>\n",
       "    .dataframe tbody tr th:only-of-type {\n",
       "        vertical-align: middle;\n",
       "    }\n",
       "\n",
       "    .dataframe tbody tr th {\n",
       "        vertical-align: top;\n",
       "    }\n",
       "\n",
       "    .dataframe thead th {\n",
       "        text-align: right;\n",
       "    }\n",
       "</style>\n",
       "<table border=\"1\" class=\"dataframe\">\n",
       "  <thead>\n",
       "    <tr style=\"text-align: right;\">\n",
       "      <th></th>\n",
       "      <th>fixed acidity</th>\n",
       "      <th>volatile acidity</th>\n",
       "      <th>citric acid</th>\n",
       "      <th>residual sugar</th>\n",
       "      <th>chlorides</th>\n",
       "      <th>free sulfur dioxide</th>\n",
       "      <th>total sulfur dioxide</th>\n",
       "      <th>density</th>\n",
       "      <th>pH</th>\n",
       "      <th>sulphates</th>\n",
       "      <th>alcohol</th>\n",
       "      <th>quality</th>\n",
       "    </tr>\n",
       "  </thead>\n",
       "  <tbody>\n",
       "    <tr>\n",
       "      <th>3488</th>\n",
       "      <td>1.0</td>\n",
       "      <td>-0.545455</td>\n",
       "      <td>-1.000000</td>\n",
       "      <td>-0.463415</td>\n",
       "      <td>-0.500000</td>\n",
       "      <td>-0.391304</td>\n",
       "      <td>-0.864407</td>\n",
       "      <td>-0.653341</td>\n",
       "      <td>-0.789474</td>\n",
       "      <td>-0.071429</td>\n",
       "      <td>0.684211</td>\n",
       "      <td>6</td>\n",
       "    </tr>\n",
       "    <tr>\n",
       "      <th>2171</th>\n",
       "      <td>0.6</td>\n",
       "      <td>-0.636364</td>\n",
       "      <td>-0.166667</td>\n",
       "      <td>0.926829</td>\n",
       "      <td>0.714286</td>\n",
       "      <td>0.630435</td>\n",
       "      <td>1.610169</td>\n",
       "      <td>1.110223</td>\n",
       "      <td>-0.210526</td>\n",
       "      <td>0.142857</td>\n",
       "      <td>-0.684211</td>\n",
       "      <td>7</td>\n",
       "    </tr>\n",
       "    <tr>\n",
       "      <th>1671</th>\n",
       "      <td>0.2</td>\n",
       "      <td>0.818182</td>\n",
       "      <td>-0.166667</td>\n",
       "      <td>0.158537</td>\n",
       "      <td>-1.071429</td>\n",
       "      <td>-0.304348</td>\n",
       "      <td>-0.796610</td>\n",
       "      <td>-0.031982</td>\n",
       "      <td>1.157895</td>\n",
       "      <td>-0.357143</td>\n",
       "      <td>0.526316</td>\n",
       "      <td>7</td>\n",
       "    </tr>\n",
       "    <tr>\n",
       "      <th>561</th>\n",
       "      <td>-0.9</td>\n",
       "      <td>1.000000</td>\n",
       "      <td>-1.833333</td>\n",
       "      <td>-0.439024</td>\n",
       "      <td>1.000000</td>\n",
       "      <td>0.217391</td>\n",
       "      <td>-0.101695</td>\n",
       "      <td>-0.306111</td>\n",
       "      <td>0.315789</td>\n",
       "      <td>0.071429</td>\n",
       "      <td>-0.157895</td>\n",
       "      <td>5</td>\n",
       "    </tr>\n",
       "    <tr>\n",
       "      <th>2031</th>\n",
       "      <td>0.8</td>\n",
       "      <td>0.272727</td>\n",
       "      <td>-0.500000</td>\n",
       "      <td>0.158537</td>\n",
       "      <td>-0.071429</td>\n",
       "      <td>-0.086957</td>\n",
       "      <td>0.440678</td>\n",
       "      <td>0.150771</td>\n",
       "      <td>-0.210526</td>\n",
       "      <td>0.000000</td>\n",
       "      <td>0.157895</td>\n",
       "      <td>5</td>\n",
       "    </tr>\n",
       "  </tbody>\n",
       "</table>\n",
       "</div>"
      ],
      "text/plain": [
       "      fixed acidity  volatile acidity  citric acid  residual sugar  chlorides  \\\n",
       "3488            1.0         -0.545455    -1.000000       -0.463415  -0.500000   \n",
       "2171            0.6         -0.636364    -0.166667        0.926829   0.714286   \n",
       "1671            0.2          0.818182    -0.166667        0.158537  -1.071429   \n",
       "561            -0.9          1.000000    -1.833333       -0.439024   1.000000   \n",
       "2031            0.8          0.272727    -0.500000        0.158537  -0.071429   \n",
       "\n",
       "      free sulfur dioxide  total sulfur dioxide   density        pH  \\\n",
       "3488            -0.391304             -0.864407 -0.653341 -0.789474   \n",
       "2171             0.630435              1.610169  1.110223 -0.210526   \n",
       "1671            -0.304348             -0.796610 -0.031982  1.157895   \n",
       "561              0.217391             -0.101695 -0.306111  0.315789   \n",
       "2031            -0.086957              0.440678  0.150771 -0.210526   \n",
       "\n",
       "      sulphates   alcohol  quality  \n",
       "3488  -0.071429  0.684211        6  \n",
       "2171   0.142857 -0.684211        7  \n",
       "1671  -0.357143  0.526316        7  \n",
       "561    0.071429 -0.157895        5  \n",
       "2031   0.000000  0.157895        5  "
      ]
     },
     "execution_count": 23,
     "metadata": {},
     "output_type": "execute_result"
    }
   ],
   "source": [
    "# Firstly make a deep copy clone of the original raw \n",
    "# data so it can be used in the future\n",
    "wine_data_robust = raw_wine_data.copy()\n",
    "# Compute the median and quantiles to be used for scaling \n",
    "# and apply robust standardisation to all \n",
    "# feature columns leaving the target variable unchanged\n",
    "scaler = RobustScaler()\n",
    "wine_data_robust.iloc[:, :11] = scaler.fit_transform(\n",
    "    wine_data_robust.iloc[:, :11])\n",
    "# Output a sample of the standardised data set\n",
    "wine_data_robust.sample(n=5)"
   ]
  },
  {
   "cell_type": "code",
   "execution_count": 24,
   "metadata": {},
   "outputs": [
    {
     "name": "stdout",
     "output_type": "stream",
     "text": [
      "Accuracy after scaling:\n",
      "Accuracy: 53.061%\n",
      "Confusion matrix:\n",
      "Predicted   4    5    6    7  8  All\n",
      "Actual                              \n",
      "3           0    4    5    0  0    9\n",
      "4           7   31   10    3  0   51\n",
      "5           5  170  110   10  0  295\n",
      "6           1  103  262   41  2  409\n",
      "7           0   18   84   79  2  183\n",
      "8           0    2   14   15  2   33\n",
      "All        13  328  485  148  6  980\n"
     ]
    }
   ],
   "source": [
    "# Test the new standardised data prediction accuracy\n",
    "target = wine_data_robust['quality']\n",
    "data = wine_data_robust.iloc[:, :11]\n",
    "print(\"Accuracy after scaling:\")\n",
    "check_accuracy(data, target)"
   ]
  },
  {
   "cell_type": "markdown",
   "metadata": {},
   "source": [
    "Use DBScan to remove the outliers after the data has been standardised."
   ]
  },
  {
   "cell_type": "code",
   "execution_count": 25,
   "metadata": {},
   "outputs": [
    {
     "name": "stdout",
     "output_type": "stream",
     "text": [
      "The new length of the wine data set with outliers removed is: 2322\n"
     ]
    },
    {
     "data": {
      "image/png": "[encoded data removed]",
      "text/plain": [
       "<Figure size 432x288 with 1 Axes>"
      ]
     },
     "metadata": {
      "needs_background": "light"
     },
     "output_type": "display_data"
    }
   ],
   "source": [
    "DB = DBSCAN(eps=1, min_samples=3)\n",
    "DB.fit(wine_data_robust)\n",
    "\n",
    "wine_data_filtered = wine_data_robust[DB.labels_ != -1]\n",
    "print(\"The new length of the wine data set with \"\n",
    "      \"outliers removed is: {}\".format(\n",
    "        len(wine_data_filtered)))\n",
    "plt.scatter(wine_data_filtered.iloc[:, 0], wine_data_filtered['quality'])\n",
    "plt.show()"
   ]
  },
  {
   "cell_type": "code",
   "execution_count": 26,
   "metadata": {},
   "outputs": [
    {
     "name": "stdout",
     "output_type": "stream",
     "text": [
      "Classes after outlier filter applied: \n",
      "5     652\n",
      "6    1173\n",
      "7     453\n",
      "8      44\n",
      "Name: quality, dtype: int64\n",
      "\n",
      "Accuracy: 70.753%\n",
      "Confusion matrix:\n",
      "Predicted    5    6   7  8  All\n",
      "Actual                         \n",
      "5           87   30   2  0  119\n",
      "6           38  184  22  1  245\n",
      "7            2   36  54  2   94\n",
      "8            0    1   2  4    7\n",
      "All        127  251  80  7  465\n"
     ]
    }
   ],
   "source": [
    "# Checking the accuracy of the prediction model with outlier detection applied\n",
    "data = wine_data_filtered.iloc[:, :11]\n",
    "target = wine_data_filtered['quality']\n",
    "\n",
    "print(\"Classes after outlier filter applied: \\n{}\\n\".format(\n",
    "    target.value_counts().sort_index()))\n",
    "check_accuracy(data, target)"
   ]
  },
  {
   "cell_type": "markdown",
   "metadata": {},
   "source": [
    "Removing the outliers from the dataset results in a drastic improvement in the overall prediction accuracy of the ML algorithm but there is a major problem which may not be instantly obvious, there has been a reduction in the amount of target classes from 7 to 4. As the lowest and highest target classes are so under-represented, the outlier detection algorithm classes them as outliers.  \n",
    "\n",
    "They are outliers by definition, but their importance as target class instances is more important to the overall efficiency of the ML algorithm. If they are removed it will present the possibility that we will instantly have a missclassification if the training data has a target variable which has been removed due to being classed an outlier.\n",
    "\n",
    "The best approach which could be taken here in terms of the lowest classes and outlier detection is to have the lowest represented classes in the source data set increased, that is, add more samples of wine where the quality is deemed to be 3, 4, or 9. In doing so the source data will be better placed to run a ML algorithm against."
   ]
  },
  {
   "cell_type": "markdown",
   "metadata": {},
   "source": [
    "#### 3.4.1 Another Option\n",
    "Another feasible option here is to classify the wines into categories consisting of relating wine qualities, for example have a new target variable which classifies the wine as poor, normal, and excellent.  \n",
    "- For poor wines the qualities would be 0-4 giving a new total of 183 sample instances\n",
    "- For normal wines the qualities would be 5-7 giving a new total of 4535 sample instances\n",
    "- For excellent wines the qualities would be 8-10 giving a new total of 180 instances\n",
    "Although there is a very significant class imbalance, it would allow for greater accuracy in predicting a narrower quality of wine quality."
   ]
  },
  {
   "cell_type": "code",
   "execution_count": 27,
   "metadata": {},
   "outputs": [
    {
     "data": {
      "text/html": [
       "<div>\n",
       "<style scoped>\n",
       "    .dataframe tbody tr th:only-of-type {\n",
       "        vertical-align: middle;\n",
       "    }\n",
       "\n",
       "    .dataframe tbody tr th {\n",
       "        vertical-align: top;\n",
       "    }\n",
       "\n",
       "    .dataframe thead th {\n",
       "        text-align: right;\n",
       "    }\n",
       "</style>\n",
       "<table border=\"1\" class=\"dataframe\">\n",
       "  <thead>\n",
       "    <tr style=\"text-align: right;\">\n",
       "      <th></th>\n",
       "      <th>fixed acidity</th>\n",
       "      <th>volatile acidity</th>\n",
       "      <th>citric acid</th>\n",
       "      <th>residual sugar</th>\n",
       "      <th>chlorides</th>\n",
       "      <th>free sulfur dioxide</th>\n",
       "      <th>total sulfur dioxide</th>\n",
       "      <th>density</th>\n",
       "      <th>pH</th>\n",
       "      <th>sulphates</th>\n",
       "      <th>alcohol</th>\n",
       "      <th>quality</th>\n",
       "      <th>review</th>\n",
       "    </tr>\n",
       "  </thead>\n",
       "  <tbody>\n",
       "    <tr>\n",
       "      <th>3937</th>\n",
       "      <td>-0.3</td>\n",
       "      <td>0.909091</td>\n",
       "      <td>0.333333</td>\n",
       "      <td>0.182927</td>\n",
       "      <td>10.142857</td>\n",
       "      <td>0.760870</td>\n",
       "      <td>0.288136</td>\n",
       "      <td>0.351799</td>\n",
       "      <td>-0.052632</td>\n",
       "      <td>-0.357143</td>\n",
       "      <td>-0.578947</td>\n",
       "      <td>5</td>\n",
       "      <td>Standard</td>\n",
       "    </tr>\n",
       "    <tr>\n",
       "      <th>1526</th>\n",
       "      <td>7.4</td>\n",
       "      <td>0.090909</td>\n",
       "      <td>1.416667</td>\n",
       "      <td>-0.500000</td>\n",
       "      <td>-0.428571</td>\n",
       "      <td>-0.043478</td>\n",
       "      <td>0.372881</td>\n",
       "      <td>-0.397487</td>\n",
       "      <td>-0.157895</td>\n",
       "      <td>0.500000</td>\n",
       "      <td>0.368421</td>\n",
       "      <td>6</td>\n",
       "      <td>Standard</td>\n",
       "    </tr>\n",
       "    <tr>\n",
       "      <th>387</th>\n",
       "      <td>-0.5</td>\n",
       "      <td>1.181818</td>\n",
       "      <td>0.250000</td>\n",
       "      <td>0.085366</td>\n",
       "      <td>-0.214286</td>\n",
       "      <td>2.108696</td>\n",
       "      <td>2.135593</td>\n",
       "      <td>0.082239</td>\n",
       "      <td>-0.315789</td>\n",
       "      <td>1.357143</td>\n",
       "      <td>-0.157895</td>\n",
       "      <td>5</td>\n",
       "      <td>Standard</td>\n",
       "    </tr>\n",
       "    <tr>\n",
       "      <th>272</th>\n",
       "      <td>-1.0</td>\n",
       "      <td>-0.090909</td>\n",
       "      <td>-0.500000</td>\n",
       "      <td>0.963415</td>\n",
       "      <td>0.571429</td>\n",
       "      <td>0.434783</td>\n",
       "      <td>0.237288</td>\n",
       "      <td>0.790405</td>\n",
       "      <td>0.578947</td>\n",
       "      <td>-0.642857</td>\n",
       "      <td>-0.578947</td>\n",
       "      <td>5</td>\n",
       "      <td>Standard</td>\n",
       "    </tr>\n",
       "    <tr>\n",
       "      <th>932</th>\n",
       "      <td>-0.3</td>\n",
       "      <td>0.000000</td>\n",
       "      <td>-0.333333</td>\n",
       "      <td>0.890244</td>\n",
       "      <td>0.214286</td>\n",
       "      <td>2.000000</td>\n",
       "      <td>1.542373</td>\n",
       "      <td>0.710451</td>\n",
       "      <td>0.000000</td>\n",
       "      <td>-0.428571</td>\n",
       "      <td>-0.210526</td>\n",
       "      <td>6</td>\n",
       "      <td>Standard</td>\n",
       "    </tr>\n",
       "  </tbody>\n",
       "</table>\n",
       "</div>"
      ],
      "text/plain": [
       "      fixed acidity  volatile acidity  citric acid  residual sugar  chlorides  \\\n",
       "3937           -0.3          0.909091     0.333333        0.182927  10.142857   \n",
       "1526            7.4          0.090909     1.416667       -0.500000  -0.428571   \n",
       "387            -0.5          1.181818     0.250000        0.085366  -0.214286   \n",
       "272            -1.0         -0.090909    -0.500000        0.963415   0.571429   \n",
       "932            -0.3          0.000000    -0.333333        0.890244   0.214286   \n",
       "\n",
       "      free sulfur dioxide  total sulfur dioxide   density        pH  \\\n",
       "3937             0.760870              0.288136  0.351799 -0.052632   \n",
       "1526            -0.043478              0.372881 -0.397487 -0.157895   \n",
       "387              2.108696              2.135593  0.082239 -0.315789   \n",
       "272              0.434783              0.237288  0.790405  0.578947   \n",
       "932              2.000000              1.542373  0.710451  0.000000   \n",
       "\n",
       "      sulphates   alcohol  quality    review  \n",
       "3937  -0.357143 -0.578947        5  Standard  \n",
       "1526   0.500000  0.368421        6  Standard  \n",
       "387    1.357143 -0.157895        5  Standard  \n",
       "272   -0.642857 -0.578947        5  Standard  \n",
       "932   -0.428571 -0.210526        6  Standard  "
      ]
     },
     "execution_count": 27,
     "metadata": {},
     "output_type": "execute_result"
    }
   ],
   "source": [
    "review = []\n",
    "for i in wine_data_robust['quality']:\n",
    "    if 1 <= i <= 4:\n",
    "        review.append('Poor')\n",
    "    elif 5 <= i <= 7:\n",
    "        review.append('Standard')\n",
    "    elif 8 <= i <= 10:\n",
    "        review.append('Excellent')\n",
    "\n",
    "wine_data_robust['review'] = review\n",
    "wine_data_robust.sample(n=5)"
   ]
  },
  {
   "cell_type": "markdown",
   "metadata": {},
   "source": [
    "Using this new classification method and target class, the random forest classifier returns accuracy values which are approx 90%, up from 80% when outliers were removed and classed not represented, and 60% when imbalances were corrected. Although there is an arguement here that the ML algorithm is not doing its job as intended by predicting exact wine qualities, with the massive over-representation of the 'standard' wine classes it could be counter-argued that this method predicts the poor and excellent classes much better than before. "
   ]
  },
  {
   "cell_type": "code",
   "execution_count": 28,
   "metadata": {},
   "outputs": [
    {
     "name": "stdout",
     "output_type": "stream",
     "text": [
      "Before applying outlier detection:\n",
      "Dataset Shape: \n",
      "Excellent     180\n",
      "Poor          183\n",
      "Standard     4535\n",
      "Name: review, dtype: int64\n",
      "Accuracy: 90.510%\n",
      "Confusion matrix:\n",
      "Predicted  Excellent  Poor  Standard  All\n",
      "Actual                                   \n",
      "Excellent          2     0        31   33\n",
      "Poor               0     4        56   60\n",
      "Standard           4     2       881  887\n",
      "All                6     6       968  980\n",
      "\n",
      "After applying outlier detection:\n",
      "Dataset size: 3157\n",
      "Outliers Removed: 1741\n",
      "Dataset Shape: \n",
      "Excellent     111\n",
      "Poor           60\n",
      "Standard     2986\n",
      "Name: review, dtype: int64\n",
      "Accuracy: 93.196%\n",
      "Confusion matrix:\n",
      "Predicted  Excellent  Poor  Standard  All\n",
      "Actual                                   \n",
      "Excellent          6     0        19   25\n",
      "Poor               0     0        17   17\n",
      "Standard           6     1       583  590\n",
      "All               12     1       619  632\n"
     ]
    }
   ],
   "source": [
    "# Extract the new review classificaiton and feature data \n",
    "# from the standardised data\n",
    "target = wine_data_robust['review']\n",
    "data = wine_data_robust.iloc[:, :11]\n",
    "# Output the data set shape and determine accuracy\n",
    "print(\"Before applying outlier detection:\")\n",
    "print(\"Dataset Shape: \\n{}\".format(format(\n",
    "    target.value_counts().sort_index())))\n",
    "check_accuracy(data, target)\n",
    "\n",
    "# Apply outlier detection to the new review classification\n",
    "DB = DBSCAN(eps=1, min_samples=3)\n",
    "DB.fit(wine_data_robust.iloc[:, :11])\n",
    "wine_data_filtered = wine_data_robust[DB.labels_ != -1]\n",
    "target = wine_data_filtered['review']\n",
    "data = wine_data_filtered.iloc[:, :11]\n",
    "\n",
    "# Output results of outlier detection\n",
    "print(\"\\nAfter applying outlier detection:\")\n",
    "print(\"Dataset size: {}\".format(len(wine_data_filtered)))\n",
    "print(\"Outliers Removed: {}\".format(\n",
    "    len(wine_data_robust) - len(wine_data_filtered)))\n",
    "print(\"Dataset Shape: \\n{}\".format(format(\n",
    "    target.value_counts().sort_index())))\n",
    "check_accuracy(data, target)"
   ]
  },
  {
   "cell_type": "markdown",
   "metadata": {},
   "source": [
    "### 3.5 Feature Selection/Dimensionality Reduction\n",
    "Another pre-processing option is feature selection, where calculations are run on all the features to determine which have the most impact on the probability of calculating the correct target classification.  The impact should be a reduction in amount of processing required of predicting the classification of the instances in the test data set whilst not impacting the overall prediciton accuracy."
   ]
  },
  {
   "cell_type": "code",
   "execution_count": 29,
   "metadata": {},
   "outputs": [],
   "source": [
    "# Reset the data and target for clean comparison\n",
    "data = raw_wine_data.iloc[:, :11]\n",
    "target = raw_wine_data['quality']"
   ]
  },
  {
   "cell_type": "markdown",
   "metadata": {},
   "source": [
    "#### 3.5.1 Select Percentile"
   ]
  },
  {
   "cell_type": "code",
   "execution_count": 30,
   "metadata": {},
   "outputs": [
    {
     "name": "stdout",
     "output_type": "stream",
     "text": [
      "Score :  12.894791612180219  for feature  fixed acidity\n",
      "Score :  61.91673867706294  for feature  volatile acidity\n",
      "Score :  3.2457450938659638  for feature  citric acid\n",
      "Score :  21.270285175055697  for feature  residual sugar\n",
      "Score :  42.47225197901322  for feature  chlorides\n",
      "Score :  19.723674435414853  for feature  free sulfur dioxide\n",
      "Score :  45.20094879194391  for feature  total sulfur dioxide\n",
      "Score :  105.85643385006698  for feature  density\n",
      "Score :  10.103289121029704  for feature  pH\n",
      "Score :  3.6423168799989507  for feature  sulphates\n",
      "Score :  229.73477227466051  for feature  alcohol\n"
     ]
    }
   ],
   "source": [
    "# f_classif tells feature selection algorithm this is a classification task\n",
    "selector_percentile = SelectPercentile(f_classif, percentile=25)\n",
    "selector_percentile.fit(data, target)\n",
    "\n",
    "for n, s in zip(wine_data_robust.columns.values, selector_percentile.scores_):\n",
    "    print(\"Score : \", s, \" for feature \", n)"
   ]
  },
  {
   "cell_type": "markdown",
   "metadata": {},
   "source": [
    "#### 3.5.2 Select k-Best"
   ]
  },
  {
   "cell_type": "code",
   "execution_count": 31,
   "metadata": {},
   "outputs": [
    {
     "name": "stdout",
     "output_type": "stream",
     "text": [
      "Score :  12.894791612180219  for feature  fixed acidity\n",
      "Score :  61.91673867706294  for feature  volatile acidity\n",
      "Score :  3.2457450938659638  for feature  citric acid\n",
      "Score :  21.270285175055697  for feature  residual sugar\n",
      "Score :  42.47225197901322  for feature  chlorides\n",
      "Score :  19.723674435414853  for feature  free sulfur dioxide\n",
      "Score :  45.20094879194391  for feature  total sulfur dioxide\n",
      "Score :  105.85643385006698  for feature  density\n",
      "Score :  10.103289121029704  for feature  pH\n",
      "Score :  3.6423168799989507  for feature  sulphates\n",
      "Score :  229.73477227466051  for feature  alcohol\n"
     ]
    }
   ],
   "source": [
    "selector_kbest = SelectKBest(f_classif)\n",
    "selector_kbest.fit(data, target)\n",
    "for n, s in zip(wine_data_robust.columns.values, selector_kbest.scores_):\n",
    "    print(\"Score : \", s, \" for feature \", n)"
   ]
  },
  {
   "cell_type": "markdown",
   "metadata": {},
   "source": [
    "#### 3.5.3 Random Forest"
   ]
  },
  {
   "cell_type": "code",
   "execution_count": 32,
   "metadata": {},
   "outputs": [
    {
     "name": "stdout",
     "output_type": "stream",
     "text": [
      "Importance of feature  fixed acidity is 0.07523686065169158\n",
      "Importance of feature  volatile acidity is 0.10024861991955221\n",
      "Importance of feature  citric acid is 0.08149137581035326\n",
      "Importance of feature  residual sugar is 0.08830096000755272\n",
      "Importance of feature  chlorides is 0.08469014199547735\n",
      "Importance of feature  free sulfur dioxide is 0.09376084422890604\n",
      "Importance of feature  total sulfur dioxide is 0.09160503875509356\n",
      "Importance of feature  density is 0.10566121985896498\n",
      "Importance of feature  pH is 0.0865030046819393\n",
      "Importance of feature  sulphates is 0.07947399328787513\n",
      "Importance of feature  alcohol is 0.11302794080259387\n"
     ]
    }
   ],
   "source": [
    "forest = RandomForestClassifier(n_estimators=250, random_state=0)\n",
    "forest.fit(data, target)\n",
    "importances = forest.feature_importances_\n",
    "for index in range(len(X[0])):\n",
    "    print(\"Importance of feature \", wine_data_robust.columns.values[index],\n",
    "          \"is\", importances[index])"
   ]
  },
  {
   "cell_type": "markdown",
   "metadata": {},
   "source": [
    "Random Forest Classifier takes significantly longer to compute the imporance of the features in the data set compared to select K best and select percentile, whilst returning a different outcome for the imporance of each feature. For example, alcohol is seen as the second biggest contributing feature for both select K best and select percentile, but for Random Forest Classification it is the sixth most important feature.\n",
    "\n",
    "#### 3.5.4 Feauture Selection Tests with Accuracy \n",
    "We can determine the effectiveness of the feature selction algorithms on the accuracy of the prediction model. Cross-validation is used here with cross-fold count set to 10, repeated validation should provide a more accurate overall view of optimal features."
   ]
  },
  {
   "cell_type": "code",
   "execution_count": 33,
   "metadata": {},
   "outputs": [
    {
     "name": "stdout",
     "output_type": "stream",
     "text": [
      "Initial kNN Max Accuracy Result:  0.4517453798767967\n",
      "\n",
      "Optimal number of Percentile features is:  2\n",
      "Percentile Max Accuracy Result:  0.49075975359342916\n",
      "\n",
      "Optimal number of kBest features is  2\n",
      "kBest Max Accuracy Result:  0.48261758691206547\n",
      "\n",
      "Optimal number of trees in forest is:  17\n",
      "Random Forest Classifier Max Accuracy Result:  0.5766871165644172\n",
      "\n",
      "Optimal number of RFECV features is:  9\n",
      "RFECV Max Accuracy Result:  0.4887063655030801\n",
      "\n",
      "Optimal number of PCA features is:  11\n",
      "PCA Max Accuracy Result:  0.4887063655030801\n"
     ]
    }
   ],
   "source": [
    "data = raw_wine_data.iloc[:, :11]\n",
    "target = raw_wine_data['quality']\n",
    "\n",
    "# k-Neighbours Classifier with cross-validation for baseline\n",
    "kNN = neighbors.KNeighborsClassifier()\n",
    "scores = model_selection.cross_val_score(\n",
    "    kNN, data, target, cv=10)\n",
    "print(\"Initial kNN Max Accuracy Result: \", scores.max())\n",
    "\n",
    "# Select features according to a percentile of the highest scores\n",
    "selector_percentile = SelectPercentile(f_classif, percentile=25)\n",
    "selector_percentile.fit(data, target)\n",
    "print(\"\\nOptimal number of Percentile features is: \",\n",
    "      len(selector_percentile.get_params()))\n",
    "data_percentile = selector_percentile.transform(data)\n",
    "scores_percentile = model_selection.cross_val_score(\n",
    "    kNN, data_percentile, target, cv=10)\n",
    "print(\"Percentile Max Accuracy Result: \", scores_percentile.max())\n",
    "\n",
    "# Select features according to the k highest scores\n",
    "selector_kbest = SelectKBest(f_classif, k=5)\n",
    "selector_kbest.fit(data, target)\n",
    "print(\"\\nOptimal number of kBest features is \",\n",
    "      len(selector_kbest.get_params()))\n",
    "data_kbest = selector_kbest.transform(data)\n",
    "scores_kbest = model_selection.cross_val_score(\n",
    "    kNN, data_kbest, target, cv=10)\n",
    "print(\"kBest Max Accuracy Result: \", scores_kbest.max())\n",
    "\n",
    "# Determine optimal tree value\n",
    "forest = RandomForestClassifier(n_estimators=250, random_state=0)\n",
    "forest.fit(data, target)\n",
    "print(\"\\nOptimal number of trees in forest is: \", len(forest.get_params()))\n",
    "data_random_forest = forest.apply(data)\n",
    "scores_random_forest = model_selection.cross_val_score(\n",
    "    kNN, data_random_forest, target, cv=10)\n",
    "print(\"Random Forest Classifier Max Accuracy Result: \", scores_random_forest.max())\n",
    "\n",
    "# Feature ranking with recursive feature elimination and cross-validated \n",
    "# selection of the best number of features\n",
    "estimator = linear_model.LogisticRegression()\n",
    "selector_greedy = RFECV(estimator, cv=10)\n",
    "selector_greedy.fit(data, target)\n",
    "print(\"\\nOptimal number of RFECV features is: \", selector_greedy.n_features_)\n",
    "data_greedy = data.loc[:, selector_greedy.support_]\n",
    "scores_greedy = model_selection.cross_val_score(\n",
    "    kNN, data_greedy, target, cv=10)\n",
    "print(\"RFECV Max Accuracy Result: \", scores_greedy.max())\n",
    "\n",
    "# Principal component analysis (PCA)\n",
    "# Linear dimensionality reduction using Singular Value Decomposition of \n",
    "# the data to project it to a lower dimensional space\n",
    "selector_pca = PCA()\n",
    "selector_pca.fit(data, target)\n",
    "print(\"\\nOptimal number of PCA features is: \", selector_pca.n_features_)\n",
    "data_pca = selector_pca.transform(data)\n",
    "scores_pca = model_selection.cross_val_score(\n",
    "    kNN, data_pca, target, cv=10)\n",
    "print(\"PCA Max Accuracy Result: \", scores_greedy.max())"
   ]
  },
  {
   "cell_type": "markdown",
   "metadata": {},
   "source": [
    "Again random forest takes a very long time here to run in comparison to kBest and Percentile whilst not providing any tangible improvment in the accuracy of the predicitions."
   ]
  },
  {
   "cell_type": "markdown",
   "metadata": {},
   "source": [
    "## 3.6 Test: Running Best Pre-Processing Combinations "
   ]
  },
  {
   "cell_type": "code",
   "execution_count": 34,
   "metadata": {},
   "outputs": [
    {
     "name": "stdout",
     "output_type": "stream",
     "text": [
      "Base dataset results with no processing applied:\n",
      "Accuracy: 45.510%\n",
      "Confusion matrix:\n",
      "Predicted   4    5    6    7   8  All\n",
      "Actual                               \n",
      "3           1    6    2    0   0    9\n",
      "4           3   24   20    4   0   51\n",
      "5           7  135  137   16   0  295\n",
      "6           4  111  250   40   4  409\n",
      "7           0   37   90   54   2  183\n",
      "8           0    4   19    6   4   33\n",
      "All        15  317  518  120  10  980\n",
      "\n",
      "Run results for pre-processed wine data-set targeting quality classification with no feature selection:\n",
      "Accuracy: 96.521%\n",
      "Confusion matrix:\n",
      "Predicted    3    4    5   6    7    8    9   All\n",
      "Actual                                           \n",
      "3          416    0    0   0    0    0    0   416\n",
      "4            0  441    0   0    0    0    0   441\n",
      "5            4    8  219   1    3    1    0   236\n",
      "6            4    3   13  67   19    6    0   112\n",
      "7            3    6    2   1  350    9    2   373\n",
      "8            0    0    0   0    0  418    0   418\n",
      "9            0    0    0   0    0    0  447   447\n",
      "All        427  458  234  69  372  434  449  2443\n",
      "\n",
      "Run results for pre-processed wine data-set targeting quality classification with feature selection:\n",
      "Accuracy: 88.293%\n",
      "Confusion matrix:\n",
      "Predicted    3    4    5   6    7    8    9   All\n",
      "Actual                                           \n",
      "3          409    4    2   0    0    1    0   416\n",
      "4            8  416    9   0    7    1    0   441\n",
      "5           14   27  174   6   12    3    0   236\n",
      "6            5    8   16  49   20   14    0   112\n",
      "7            8   21    8   7  283   45    1   373\n",
      "8            4    4    1   4   25  379    1   418\n",
      "9            0    0    0   0    0    0  447   447\n",
      "All        448  480  210  66  347  443  449  2443\n",
      "\n",
      "Run results for pre-processed wine data-set targeting review classification with no feature selection:\n",
      "Accuracy: 94.928%\n",
      "Confusion matrix:\n",
      "Predicted  Excellent  Poor  Standard   All\n",
      "Actual                                    \n",
      "Excellent        907     0         0   907\n",
      "Poor               0   945         0   945\n",
      "Standard          74    64       731   869\n",
      "All              981  1009       731  2721\n",
      "\n",
      "Run results for pre-processed wine data-set targeting review classification with feature selection:\n",
      "Accuracy: 95.186%\n",
      "Confusion matrix:\n",
      "Predicted  Excellent  Poor  Standard   All\n",
      "Actual                                    \n",
      "Excellent        907     0         0   907\n",
      "Poor               0   945         0   945\n",
      "Standard          69    62       738   869\n",
      "All              976  1007       738  2721\n",
      "\n",
      "Improvement for Quality accuracy with no feature selection: 51.010%\n",
      "Improvement for Quality accuracy with feature selection: 42.783%\n",
      "Improvement for Review accuracy with no feature selection: 49.418%\n",
      "Improvement for Review accuracy with feature selection: 49.675%\n"
     ]
    }
   ],
   "source": [
    "# Firstly make a deep copy clone of the original raw \n",
    "# data so it can be used in the future\n",
    "wine_data = raw_wine_data.copy()\n",
    "# Standardise Data\n",
    "scaler = RobustScaler()\n",
    "wine_data.iloc[:, :11] = scaler.fit_transform(wine_data.iloc[:, :11])\n",
    "\n",
    "# Create new broader review category for A|B comparison\n",
    "review = []\n",
    "for i in wine_data['quality']:\n",
    "    if 1 <= i <= 4:\n",
    "        review.append('Poor')\n",
    "    elif 5 <= i <= 7:\n",
    "        review.append('Standard')\n",
    "    elif 8 <= i <= 10:\n",
    "        review.append('Excellent')\n",
    "wine_data['review'] = review\n",
    "\n",
    "# Apply re-balancing algorithm\n",
    "processed_data_quality = wine_data.iloc[:, :11]\n",
    "processed_target_quality = wine_data['quality']\n",
    "processed_target_review = wine_data['review']\n",
    "\n",
    "# SMOTEENN(random_state=0) >>> Better for quality\n",
    "# RandomOverSampler >>> Better for review\n",
    "resampled_data_quality, resampled_target_quality = SMOTEENN(\n",
    "    random_state=0, smote=SMOTE(k_neighbors=4)).fit_resample(\n",
    "        processed_data_quality, processed_target_quality)\n",
    "resampled_data_review, resampled_target_review = RandomOverSampler(\n",
    "    random_state=0).fit_resample(\n",
    "        processed_data_quality, processed_target_review)\n",
    "\n",
    "# Base dataset run results again for comparison\n",
    "print(\"Base dataset results with no processing applied:\")\n",
    "base_accuracy = check_accuracy(data, target, return_accu=True)\n",
    "\n",
    "# Test RFC with no feature selection applied on processed data for \n",
    "# quality classification\n",
    "nfopt_forest_quality = RandomForestClassifier(n_estimators=250, random_state=0)\n",
    "nfopt_forest_quality.fit(resampled_data_quality, resampled_target_quality)\n",
    "scores_random_forest_quality = model_selection.cross_val_score(\n",
    "    nfopt_forest_quality, resampled_data_quality, resampled_target_quality, cv=10)\n",
    "print( \"\\nRun results for pre-processed wine data-set targeting quality \"\n",
    "       \"classification with no feature selection:\")\n",
    "nfopt_quality_accuracy = check_accuracy(resampled_data_quality,\n",
    "                                        resampled_target_quality,\n",
    "                                        return_accu=True)\n",
    "\n",
    "# Test RFC with feature selection applied on processed data for \n",
    "# quality classification\n",
    "fopt_forest_quality = RandomForestClassifier(n_estimators=250, random_state=0)\n",
    "fopt_forest_quality.fit(resampled_data_quality, resampled_target_quality)\n",
    "data_random_forest_quality = fopt_forest_quality.apply(resampled_data_quality)\n",
    "scores_random_forest_quality = model_selection.cross_val_score(\n",
    "    fopt_forest_quality, data_random_forest_quality, resampled_target_quality, cv=10)\n",
    "print( \"\\nRun results for pre-processed wine data-set targeting quality \"\n",
    "       \"classification with feature selection:\")\n",
    "fopt_quality_accuracy = check_accuracy(data_random_forest_quality,\n",
    "                                       resampled_target_quality,\n",
    "                                       return_accu=True)\n",
    "\n",
    "# Test RFC with no feature selection applied on processed data for \n",
    "# review classification\n",
    "nfopt_forest_review = RandomForestClassifier(n_estimators=250, random_state=0)\n",
    "nfopt_forest_review.fit(resampled_data_review, resampled_target_review)\n",
    "scores_random_forest_review = model_selection.cross_val_score(\n",
    "    nfopt_forest_review, resampled_data_review, resampled_target_review, cv=10)\n",
    "print( \"\\nRun results for pre-processed wine data-set targeting review \"\n",
    "       \"classification with no feature selection:\")\n",
    "nfopt_review_accuracy = check_accuracy(resampled_data_review,\n",
    "                                 resampled_target_review,\n",
    "                                 return_accu=True)\n",
    "\n",
    "# Test RFC with feature selection applied on processed data for \n",
    "# review classification\n",
    "fopt_forest_review = RandomForestClassifier(n_estimators=250, random_state=0)\n",
    "fopt_forest_review.fit(resampled_data_review, resampled_target_review)\n",
    "data_random_forest_review = fopt_forest_review.apply(resampled_data_review)\n",
    "scores_random_forest_review = model_selection.cross_val_score(\n",
    "    fopt_forest_review, data_random_forest_review, resampled_target_review, cv=10)\n",
    "print( \"\\nRun results for pre-processed wine data-set targeting review \"\n",
    "       \"classification with feature selection:\")\n",
    "fopt_review_accuracy = check_accuracy(data_random_forest_review,\n",
    "                                      resampled_target_review,\n",
    "                                      return_accu=True)\n",
    "\n",
    "print(\"\\nImprovement for Quality accuracy with no feature selection: {:.3f}%\".format(\n",
    "    (nfopt_quality_accuracy - base_accuracy) * 100))\n",
    "print(\"Improvement for Quality accuracy with feature selection: {:.3f}%\".format(\n",
    "    (fopt_quality_accuracy - base_accuracy) * 100))\n",
    "print(\"Improvement for Review accuracy with no feature selection: {:.3f}%\".format(\n",
    "    (nfopt_review_accuracy - base_accuracy) * 100))\n",
    "print(\"Improvement for Review accuracy with feature selection: {:.3f}%\".format(\n",
    "    (fopt_review_accuracy - base_accuracy) * 100))"
   ]
  },
  {
   "cell_type": "markdown",
   "metadata": {},
   "source": [
    "## 4. Modelling Algorithms\n",
    "With pre-processing completed modelling can be investigated to determine performance of various algorithms. In particular the following will be tested:\n",
    "\n",
    "- Ada Boost Classifier\n",
    "- Decision Trees\n",
    "- Gaussian Naive Bayes\n",
    "- Gradient Boosting\n",
    "- k Neighbours\n",
    "- Linear Support Vector Classifier\n",
    "- Logistic Regression\n",
    "- Random Forests\n",
    "- Stochastic Gradient Decent Classifier\n",
    "- Support Vector Classifier"
   ]
  },
  {
   "cell_type": "code",
   "execution_count": 35,
   "metadata": {},
   "outputs": [],
   "source": [
    "# Same as check accuracy above but this version can accept a model instead\n",
    "# of default to kNN for classifier\n",
    "def check_model_accuracy(data, target, model):\n",
    "    x_train, x_test, y_train, y_test = model_selection.train_test_split(\n",
    "        data, target, test_size=0.2, random_state=0)\n",
    "    model.random_state = 0\n",
    "    model.fit(x_train, y_train)\n",
    "    y_pred = model.predict(x_test)\n",
    "    accuracy = accuracy_score(y_test, y_pred)\n",
    "    print(\"Accuracy: {:.3f}%\".format(accuracy * 100))\n",
    "    print(\"Confusion matrix:\\n{}\".format(\n",
    "        pd.crosstab(y_test, y_pred, rownames=['Actual'],\n",
    "                    colnames=['Predicted'], margins=True)))\n",
    "    return accuracy\n",
    "\n",
    "\n",
    "# Use the 'quality' pre-processed data from the previous section to \n",
    "# create our training and test sets\n",
    "model_data = resampled_data_quality.copy()\n",
    "model_data_target = resampled_target_quality.copy()"
   ]
  },
  {
   "cell_type": "markdown",
   "metadata": {},
   "source": [
    "#### 4.1 Ada Boost Classifier\n",
    "An AdaBoost classifier is a meta-estimator that begins by fitting a classifier on the original dataset and then fits additional copies of the classifier on the same dataset but where the weights of incorrectly classified instances are adjusted such that subsequent classifiers focus more on difficult cases."
   ]
  },
  {
   "cell_type": "code",
   "execution_count": 36,
   "metadata": {},
   "outputs": [
    {
     "name": "stdout",
     "output_type": "stream",
     "text": [
      "Accuracy: 39.623%\n",
      "Confusion matrix:\n",
      "Predicted    3    4   5    7    8    9   All\n",
      "Actual                                      \n",
      "3          124  215  15    9   53    0   416\n",
      "4          184  221   9    9   17    1   441\n",
      "5           25  194   7    6    4    0   236\n",
      "6            3   67   8   10   20    4   112\n",
      "7            5  122  16   48  148   34   373\n",
      "8            8   86  11   36  224   53   418\n",
      "9            0    0   0    3  100  344   447\n",
      "All        349  905  66  121  566  436  2443\n"
     ]
    }
   ],
   "source": [
    "ada_accuracy = check_model_accuracy(\n",
    "    model_data, model_data_target, AdaBoostClassifier())"
   ]
  },
  {
   "cell_type": "markdown",
   "metadata": {},
   "source": [
    "#### 4.2 Decision Tree Classifier\n",
    "Decision Trees (DTs) are a non-parametric supervised learning method used for classification and regression. The goal is to create a model that predicts the value of a target variable by learning simple decision rules inferred from the data features."
   ]
  },
  {
   "cell_type": "code",
   "execution_count": 37,
   "metadata": {},
   "outputs": [
    {
     "name": "stdout",
     "output_type": "stream",
     "text": [
      "Accuracy: 91.895%\n",
      "Confusion matrix:\n",
      "Predicted    3    4    5    6    7    8    9   All\n",
      "Actual                                            \n",
      "3          406    4    2    2    2    0    0   416\n",
      "4            6  403   16   10    5    1    0   441\n",
      "5            2   16  200    7    8    2    1   236\n",
      "6            1    2    5   80   16    7    1   112\n",
      "7            1    6    2    8  316   39    1   373\n",
      "8            0    3    2    5   14  393    1   418\n",
      "9            0    0    0    0    0    0  447   447\n",
      "All        416  434  227  112  361  442  451  2443\n"
     ]
    }
   ],
   "source": [
    "dtc_accuracy = check_model_accuracy(\n",
    "    model_data, model_data_target, DecisionTreeClassifier())"
   ]
  },
  {
   "cell_type": "markdown",
   "metadata": {},
   "source": [
    "#### 4.3 Gaussian Naive Bayes\n",
    "GaussianNB implements the Gaussian Naive Bayes algorithm for classification."
   ]
  },
  {
   "cell_type": "code",
   "execution_count": 38,
   "metadata": {},
   "outputs": [
    {
     "name": "stdout",
     "output_type": "stream",
     "text": [
      "Accuracy: 53.336%\n",
      "Confusion matrix:\n",
      "Predicted    3    4    5   6    7    8    9   All\n",
      "Actual                                           \n",
      "3          138   80   88   0   55   30   25   416\n",
      "4           14  276   82   0   45   24    0   441\n",
      "5            9   49  148   5   20    5    0   236\n",
      "6            3    7   37   8   35   21    1   112\n",
      "7            2   17   44   2  147  105   56   373\n",
      "8            4    2   31   7  169  153   52   418\n",
      "9            0   11    0   0    0    3  433   447\n",
      "All        170  442  430  22  471  341  567  2443\n"
     ]
    }
   ],
   "source": [
    "gnb_accuracy = check_model_accuracy(\n",
    "    model_data, model_data_target, GaussianNB())"
   ]
  },
  {
   "cell_type": "markdown",
   "metadata": {},
   "source": [
    "#### 4.4 Gradient Boosting\n",
    "Gradient Boosting for classification. GB builds an additive model in a forward stage-wise fashion; it allows for the optimization of arbitrary differentiable loss functions. In each stage n_classes_ regression trees are fit on the negative gradient of the binomial or multinomial deviance loss function. Binary classification is a special case where only a single regression tree is induced."
   ]
  },
  {
   "cell_type": "code",
   "execution_count": 39,
   "metadata": {},
   "outputs": [
    {
     "name": "stdout",
     "output_type": "stream",
     "text": [
      "Accuracy: 88.007%\n",
      "Confusion matrix:\n",
      "Predicted    3    4    5   6    7    8    9   All\n",
      "Actual                                           \n",
      "3          412    3    1   0    0    0    0   416\n",
      "4            9  401   18   1   10    2    0   441\n",
      "5           10   24  184   5    7    6    0   236\n",
      "6            3    1   21  41   33   13    0   112\n",
      "7            9    5   13   0  281   65    0   373\n",
      "8            2    4    2   2   21  384    3   418\n",
      "9            0    0    0   0    0    0  447   447\n",
      "All        445  438  239  49  352  470  450  2443\n"
     ]
    }
   ],
   "source": [
    "gbc_accuracy = check_model_accuracy(\n",
    "    model_data, model_data_target, GradientBoostingClassifier())"
   ]
  },
  {
   "cell_type": "markdown",
   "metadata": {},
   "source": [
    "#### 4.5 k-Neighbours\n",
    "Classifier implementing the k-nearest neighbors vote."
   ]
  },
  {
   "cell_type": "code",
   "execution_count": 40,
   "metadata": {},
   "outputs": [
    {
     "name": "stdout",
     "output_type": "stream",
     "text": [
      "Accuracy: 96.521%\n",
      "Confusion matrix:\n",
      "Predicted    3    4    5   6    7    8    9   All\n",
      "Actual                                           \n",
      "3          416    0    0   0    0    0    0   416\n",
      "4            0  441    0   0    0    0    0   441\n",
      "5            4    8  219   1    3    1    0   236\n",
      "6            4    3   13  67   19    6    0   112\n",
      "7            3    6    2   1  350    9    2   373\n",
      "8            0    0    0   0    0  418    0   418\n",
      "9            0    0    0   0    0    0  447   447\n",
      "All        427  458  234  69  372  434  449  2443\n"
     ]
    }
   ],
   "source": [
    "knc_accuracy = check_model_accuracy(\n",
    "    model_data, model_data_target, KNeighborsClassifier())"
   ]
  },
  {
   "cell_type": "markdown",
   "metadata": {},
   "source": [
    "#### 4.6 Linear SVC\n",
    "Linear Support Vector Classification.  Similar to SVC with parameter kernel=’linear’, but implemented in terms of liblinear rather than libsvm, so it has more flexibility in the choice of penalties and loss functions and should scale better to large numbers of samples."
   ]
  },
  {
   "cell_type": "code",
   "execution_count": 41,
   "metadata": {},
   "outputs": [
    {
     "name": "stdout",
     "output_type": "stream",
     "text": [
      "Accuracy: 54.973%\n",
      "Confusion matrix:\n",
      "Predicted    3    4    5    7    8    9   All\n",
      "Actual                                       \n",
      "3          155  141   10    0   83   27   416\n",
      "4           37  332   50    4   18    0   441\n",
      "5           47   85   90    3   11    0   236\n",
      "6           18    9   26   19   39    1   112\n",
      "7           38   39   25   55  209    7   373\n",
      "8           44   31   23   43  264   13   418\n",
      "9            0    0    0    0    0  447   447\n",
      "All        339  637  224  124  624  495  2443\n"
     ]
    }
   ],
   "source": [
    "lsvc_accuracy = check_model_accuracy(\n",
    "    model_data, model_data_target, LinearSVC())"
   ]
  },
  {
   "cell_type": "markdown",
   "metadata": {},
   "source": [
    "#### 4.7 Logistic Regression\n",
    "Logistic Regression (aka logit, MaxEnt) classifier."
   ]
  },
  {
   "cell_type": "code",
   "execution_count": 42,
   "metadata": {},
   "outputs": [
    {
     "name": "stdout",
     "output_type": "stream",
     "text": [
      "Accuracy: 54.851%\n",
      "Confusion matrix:\n",
      "Predicted    3    4    5    7    8    9   All\n",
      "Actual                                       \n",
      "3          158  109   12   11   86   40   416\n",
      "4           50  318   49    7   17    0   441\n",
      "5           49   74   97    7    9    0   236\n",
      "6           21    6   26   19   38    2   112\n",
      "7           48   20   21   73  198   13   373\n",
      "8           50   20   18   67  247   16   418\n",
      "9            0    0    0    0    0  447   447\n",
      "All        376  547  223  184  595  518  2443\n"
     ]
    }
   ],
   "source": [
    "lr_accuracy = check_model_accuracy(\n",
    "    model_data, model_data_target, LogisticRegression())"
   ]
  },
  {
   "cell_type": "markdown",
   "metadata": {},
   "source": [
    "#### 4.8 Random Forest\n",
    "A random forest classifier.  A random forest is a meta estimator that fits a number of decision tree classifiers on various sub-samples of the dataset and uses averaging to improve the predictive accuracy and control over-fitting. The sub-sample size is always the same as the original input sample size but the samples are drawn with replacement if bootstrap=True (default)."
   ]
  },
  {
   "cell_type": "code",
   "execution_count": 43,
   "metadata": {},
   "outputs": [
    {
     "name": "stdout",
     "output_type": "stream",
     "text": [
      "Accuracy: 96.316%\n",
      "Confusion matrix:\n",
      "Predicted    3    4    5   6    7    8    9   All\n",
      "Actual                                           \n",
      "3          415    0    0   0    1    0    0   416\n",
      "4            0  430    5   0    6    0    0   441\n",
      "5            0    9  221   1    3    2    0   236\n",
      "6            2    3    8  75   20    4    0   112\n",
      "7            0    5    4   1  355    8    0   373\n",
      "8            0    0    1   0    7  410    0   418\n",
      "9            0    0    0   0    0    0  447   447\n",
      "All        417  447  239  77  392  424  447  2443\n"
     ]
    }
   ],
   "source": [
    "rf_accuracy = check_model_accuracy(\n",
    "    model_data, model_data_target, RandomForestClassifier())"
   ]
  },
  {
   "cell_type": "markdown",
   "metadata": {},
   "source": [
    "#### 4.9 Stochastic Gradient Decent Classifier\n",
    "Linear classifiers (SVM, logistic regression, a.o.) with SGD training.  This estimator implements regularized linear models with stochastic gradient descent (SGD) learning: the gradient of the loss is estimated each sample at a time and the model is updated along the way with a decreasing strength schedule (aka learning rate). SGD allows minibatch (online/out-of-core) learning, see the partial_fit method. For best results using the default learning rate schedule, the data should have zero mean and unit variance."
   ]
  },
  {
   "cell_type": "code",
   "execution_count": 44,
   "metadata": {},
   "outputs": [
    {
     "name": "stdout",
     "output_type": "stream",
     "text": [
      "Accuracy: 44.003%\n",
      "Confusion matrix:\n",
      "Predicted    3    4    5   6    7   8    9   All\n",
      "Actual                                          \n",
      "3           52   69  160   4  114   0   17   416\n",
      "4           33  164  199  13   32   0    0   441\n",
      "5            9   31  148   3   44   0    1   236\n",
      "6            1    7   30   7   63   2    2   112\n",
      "7           26    8   57  25  245   5    7   373\n",
      "8           57    7   64  22  253  12    3   418\n",
      "9            0    0    0   0    0   0  447   447\n",
      "All        178  286  658  74  751  19  477  2443\n"
     ]
    }
   ],
   "source": [
    "sgdc_accuracy = check_model_accuracy(\n",
    "    model_data, model_data_target, SGDClassifier())"
   ]
  },
  {
   "cell_type": "markdown",
   "metadata": {},
   "source": [
    "#### 4.10 Support Vector Classifier\n",
    "C-Support Vector Classification.  The implementation is based on libsvm. The fit time complexity is more than quadratic with the number of samples which makes it hard to scale to dataset with more than a couple of 10000 samples."
   ]
  },
  {
   "cell_type": "code",
   "execution_count": 45,
   "metadata": {},
   "outputs": [
    {
     "name": "stdout",
     "output_type": "stream",
     "text": [
      "Accuracy: 83.545%\n",
      "Confusion matrix:\n",
      "Predicted    3    4    5   6    7    8    9   All\n",
      "Actual                                           \n",
      "3          416    0    0   0    0    0    0   416\n",
      "4           16  396   12   5    9    3    0   441\n",
      "5            7   44  166   2    6   11    0   236\n",
      "6            3    3   20  23   52   11    0   112\n",
      "7            2    9   12   1  243  101    5   373\n",
      "8            0    6    2   1   59  350    0   418\n",
      "9            0    0    0   0    0    0  447   447\n",
      "All        444  458  212  32  369  476  452  2443\n"
     ]
    }
   ],
   "source": [
    "svc_accuracy = check_model_accuracy(\n",
    "    model_data, model_data_target, SVC())"
   ]
  },
  {
   "cell_type": "markdown",
   "metadata": {},
   "source": [
    "#### 4.11 Comparing Model Accuracy"
   ]
  },
  {
   "cell_type": "code",
   "execution_count": 46,
   "metadata": {},
   "outputs": [
    {
     "data": {
      "text/html": [
       "<div>\n",
       "<style scoped>\n",
       "    .dataframe tbody tr th:only-of-type {\n",
       "        vertical-align: middle;\n",
       "    }\n",
       "\n",
       "    .dataframe tbody tr th {\n",
       "        vertical-align: top;\n",
       "    }\n",
       "\n",
       "    .dataframe thead th {\n",
       "        text-align: right;\n",
       "    }\n",
       "</style>\n",
       "<table border=\"1\" class=\"dataframe\">\n",
       "  <thead>\n",
       "    <tr style=\"text-align: right;\">\n",
       "      <th></th>\n",
       "      <th>Modelling Algorithm</th>\n",
       "      <th>Accuracy</th>\n",
       "    </tr>\n",
       "  </thead>\n",
       "  <tbody>\n",
       "    <tr>\n",
       "      <th>0</th>\n",
       "      <td>Ada Boost Classifier</td>\n",
       "      <td>0.396234</td>\n",
       "    </tr>\n",
       "    <tr>\n",
       "      <th>1</th>\n",
       "      <td>Decision Tree Classifier</td>\n",
       "      <td>0.918952</td>\n",
       "    </tr>\n",
       "    <tr>\n",
       "      <th>2</th>\n",
       "      <td>Gaussian NB</td>\n",
       "      <td>0.533361</td>\n",
       "    </tr>\n",
       "    <tr>\n",
       "      <th>3</th>\n",
       "      <td>Gradient Boosting Classifier</td>\n",
       "      <td>0.880065</td>\n",
       "    </tr>\n",
       "    <tr>\n",
       "      <th>4</th>\n",
       "      <td>K Neighbors Classifier</td>\n",
       "      <td>0.965207</td>\n",
       "    </tr>\n",
       "    <tr>\n",
       "      <th>5</th>\n",
       "      <td>Linear SVC</td>\n",
       "      <td>0.549734</td>\n",
       "    </tr>\n",
       "    <tr>\n",
       "      <th>6</th>\n",
       "      <td>Logistic Regression</td>\n",
       "      <td>0.548506</td>\n",
       "    </tr>\n",
       "    <tr>\n",
       "      <th>7</th>\n",
       "      <td>Random Forest Classifier</td>\n",
       "      <td>0.963160</td>\n",
       "    </tr>\n",
       "    <tr>\n",
       "      <th>8</th>\n",
       "      <td>SGD Classifier</td>\n",
       "      <td>0.440033</td>\n",
       "    </tr>\n",
       "    <tr>\n",
       "      <th>9</th>\n",
       "      <td>SVC</td>\n",
       "      <td>0.835448</td>\n",
       "    </tr>\n",
       "  </tbody>\n",
       "</table>\n",
       "</div>"
      ],
      "text/plain": [
       "            Modelling Algorithm  Accuracy\n",
       "0          Ada Boost Classifier  0.396234\n",
       "1      Decision Tree Classifier  0.918952\n",
       "2                   Gaussian NB  0.533361\n",
       "3  Gradient Boosting Classifier  0.880065\n",
       "4        K Neighbors Classifier  0.965207\n",
       "5                    Linear SVC  0.549734\n",
       "6           Logistic Regression  0.548506\n",
       "7      Random Forest Classifier  0.963160\n",
       "8                SGD Classifier  0.440033\n",
       "9                           SVC  0.835448"
      ]
     },
     "execution_count": 46,
     "metadata": {},
     "output_type": "execute_result"
    }
   ],
   "source": [
    "models = ['Ada Boost Classifier', 'Decision Tree Classifier', 'Gaussian NB',\n",
    "          'Gradient Boosting Classifier', 'K Neighbors Classifier',\n",
    "          'Linear SVC', 'Logistic Regression', 'Random Forest Classifier', \n",
    "          'SGD Classifier', 'SVC']\n",
    "\n",
    "model_results = [ada_accuracy, dtc_accuracy, gnb_accuracy, gbc_accuracy,\n",
    "                 knc_accuracy, lsvc_accuracy, lr_accuracy, rf_accuracy,\n",
    "                 sgdc_accuracy, svc_accuracy]\n",
    "\n",
    "model_data = {'Modelling Algorithm': models, 'Accuracy': model_results}\n",
    "\n",
    "model_data_df = pd.DataFrame(model_data)\n",
    "model_data_df"
   ]
  },
  {
   "cell_type": "code",
   "execution_count": 47,
   "metadata": {},
   "outputs": [
    {
     "data": {
      "image/png": "[encoded data removed]",
      "text/plain": [
       "<Figure size 864x432 with 1 Axes>"
      ]
     },
     "metadata": {
      "needs_background": "light"
     },
     "output_type": "display_data"
    }
   ],
   "source": [
    "g = sns.factorplot(x='Modelling Algorithm', y='Accuracy', data=model_data_df,\n",
    "                   kind='point', size=6, aspect=2)\n",
    "g.set_xticklabels(rotation=90)\n",
    "plt.ylim(0.4, 1.0)\n",
    "plt.title(\"Modelling Algorithm Accuracy\");"
   ]
  },
  {
   "cell_type": "markdown",
   "metadata": {},
   "source": [
    "## 5. Hyper-Parameter Optimisation\n",
    "The three best algorithms from the modelling tests are:"
   ]
  },
  {
   "cell_type": "code",
   "execution_count": 48,
   "metadata": {},
   "outputs": [
    {
     "data": {
      "text/html": [
       "<div>\n",
       "<style scoped>\n",
       "    .dataframe tbody tr th:only-of-type {\n",
       "        vertical-align: middle;\n",
       "    }\n",
       "\n",
       "    .dataframe tbody tr th {\n",
       "        vertical-align: top;\n",
       "    }\n",
       "\n",
       "    .dataframe thead th {\n",
       "        text-align: right;\n",
       "    }\n",
       "</style>\n",
       "<table border=\"1\" class=\"dataframe\">\n",
       "  <thead>\n",
       "    <tr style=\"text-align: right;\">\n",
       "      <th></th>\n",
       "      <th>Modelling Algorithm</th>\n",
       "      <th>Accuracy</th>\n",
       "    </tr>\n",
       "  </thead>\n",
       "  <tbody>\n",
       "    <tr>\n",
       "      <th>4</th>\n",
       "      <td>K Neighbors Classifier</td>\n",
       "      <td>0.965207</td>\n",
       "    </tr>\n",
       "    <tr>\n",
       "      <th>7</th>\n",
       "      <td>Random Forest Classifier</td>\n",
       "      <td>0.963160</td>\n",
       "    </tr>\n",
       "    <tr>\n",
       "      <th>1</th>\n",
       "      <td>Decision Tree Classifier</td>\n",
       "      <td>0.918952</td>\n",
       "    </tr>\n",
       "  </tbody>\n",
       "</table>\n",
       "</div>"
      ],
      "text/plain": [
       "        Modelling Algorithm  Accuracy\n",
       "4    K Neighbors Classifier  0.965207\n",
       "7  Random Forest Classifier  0.963160\n",
       "1  Decision Tree Classifier  0.918952"
      ]
     },
     "execution_count": 48,
     "metadata": {},
     "output_type": "execute_result"
    }
   ],
   "source": [
    "model_data_df.nlargest(3, 'Accuracy')"
   ]
  },
  {
   "cell_type": "markdown",
   "metadata": {},
   "source": [
    "Using these three models, hyper-parameter optimisation will be carried out with each to determine if it is possible to further increase the accuracy of each model.  During previous tests all parameters were set as their default values with the exception of random_state which was set to 0 so all results could be replicated time after time.\n",
    "\n",
    "For hyper-parameter optimisation two approaches will be tested, grid-search and random cross validation."
   ]
  },
  {
   "cell_type": "code",
   "execution_count": 49,
   "metadata": {},
   "outputs": [],
   "source": [
    "# Make a copy of the data from the processing stage\n",
    "model_data = resampled_data_quality.copy()\n",
    "model_data_target = resampled_target_quality.copy()\n",
    "# Create test and training data subsets\n",
    "x_train, x_test, y_train, y_test = model_selection.train_test_split(\n",
    "    model_data, model_data_target, test_size=0.2, random_state=0)\n",
    "\n",
    "\n",
    "def evaluate_optimisation_model(model, params_dict, x_train, \n",
    "                                x_test, y_train, y_test, grid_seach=True):\n",
    "    \"\"\"\n",
    "    Given a classifier model, perform hyper-parameter optimisation on a \n",
    "    set of parameters for a data set.  Choice of grid-search and\n",
    "    randomised search available.\n",
    "    \n",
    "    model: (object) The classification model\n",
    "    params_dict: (dict) The parameters to be used during optimisation\n",
    "    x_train: (np.ndarray) Feature Training data set\n",
    "    x_test: (np.ndarray) Feature Test data set\n",
    "    y_train: (np.ndarray) Target Training data set\n",
    "    x_test: (np.ndarray) Target Test data set\n",
    "    grid_search: (boolean) If GridSearch or RandomisedSearch is in use\n",
    "    returns: (float) Accuracy in range 0-1    \n",
    "    \"\"\"\n",
    "    if grid_search:\n",
    "        opt_model = GridSearchCV(estimator=model, \n",
    "                                 param_grid=params_dict, \n",
    "                                 scoring='accuracy',cv=10)\n",
    "    else:\n",
    "        opt_model = RandomizedSearchCV(estimator=model, \n",
    "                                       param_distributions=params_dict, \n",
    "                                       scoring='accuracy',cv=10, n_iter=50)\n",
    "    # Fit the model to the training data and run test data classification\n",
    "    opt_model.fit(x_train, y_train)\n",
    "    y_pred = opt_model.predict(x_test)\n",
    "    # Calculate accuracy of test classification\n",
    "    accuracy = accuracy_score(y_test, y_pred)\n",
    "\n",
    "    # best_score_ = average of all cv folds\n",
    "    print(\"The best RFC accuracy found during optimisation: {}%\".format(\n",
    "        opt_model.best_score_))\n",
    "    print(\"The best RFC combination of parameters: {}\".format(\n",
    "        opt_model.best_params_))\n",
    "    # accuracy = fraction of correctly classified samples\n",
    "    print(\"RFC Accuracy: {:.3f}%\".format(accuracy * 100))\n",
    "    print(\"RFC Confusion matrix:\\n{}\".format(\n",
    "        pd.crosstab(y_test, y_pred, rownames=['Actual'],\n",
    "                    colnames=['Predicted'], margins=True)))\n",
    "    print(\"\\n\", classification_report(y_test, y_pred))\n",
    "    \n",
    "    return accuracy"
   ]
  },
  {
   "cell_type": "markdown",
   "metadata": {},
   "source": [
    "<div class=\"alert alert-block alert-info\">\n",
    "<b>Hyper-Parameter Optimisation Jobs:</b> It can take a considerable amount of time to run these jobs depending on your computer hardware specification. To speed things up a bit for kNN and Random Forest optimisation you can set n_jobs parameter below to -1 to run the optimisation tasks on all cores. Be warned, these will ramp up Python to use 100% of CPU.  If you would rather specify a upper limit on the amount of threads instead set n_jobs to any positive integer. The default 'None' will use only one thread. It is not possible to set n_jobs for Decision Tree optimisation.\n",
    "</div>"
   ]
  },
  {
   "cell_type": "markdown",
   "metadata": {},
   "source": [
    "<div class=\"alert alert-block alert-info\">\n",
    "<b>Hyper-Parameter Optimisation Search Type:</b> If you would like to run random search optimisaiton instead of grid search optimisation as default, change grid_search below to False.\n",
    "</div>"
   ]
  },
  {
   "cell_type": "code",
   "execution_count": 50,
   "metadata": {},
   "outputs": [],
   "source": [
    "custom_n_jobs = None\n",
    "grid_search = True"
   ]
  },
  {
   "cell_type": "markdown",
   "metadata": {},
   "source": [
    "#### 5.1 K-Neighbours Classifier\n",
    "The following parameters will be fine-tuned:\n",
    "- n_neighbors: Number of neighbors to use by default for kneighbors queries.\n",
    "- weights: weight function used in prediction.\n",
    "- p: Power parameter for the Minkowski metric. "
   ]
  },
  {
   "cell_type": "code",
   "execution_count": 51,
   "metadata": {},
   "outputs": [
    {
     "name": "stdout",
     "output_type": "stream",
     "text": [
      "The best RFC accuracy found during optimisation: 0.986489252814739%\n",
      "The best RFC combination of parameters: {'weights': 'distance', 'p': 3, 'n_neighbors': 2}\n",
      "RFC Accuracy: 99.140%\n",
      "RFC Confusion matrix:\n",
      "Predicted    3    4    5   6    7    8    9   All\n",
      "Actual                                           \n",
      "3          416    0    0   0    0    0    0   416\n",
      "4            0  441    0   0    0    0    0   441\n",
      "5            0    3  232   0    1    0    0   236\n",
      "6            3    2    3  97    4    3    0   112\n",
      "7            0    0    0   0  371    2    0   373\n",
      "8            0    0    0   0    0  418    0   418\n",
      "9            0    0    0   0    0    0  447   447\n",
      "All        419  446  235  97  376  423  447  2443\n",
      "\n",
      "               precision    recall  f1-score   support\n",
      "\n",
      "           3       0.99      1.00      1.00       416\n",
      "           4       0.99      1.00      0.99       441\n",
      "           5       0.99      0.98      0.99       236\n",
      "           6       1.00      0.87      0.93       112\n",
      "           7       0.99      0.99      0.99       373\n",
      "           8       0.99      1.00      0.99       418\n",
      "           9       1.00      1.00      1.00       447\n",
      "\n",
      "   micro avg       0.99      0.99      0.99      2443\n",
      "   macro avg       0.99      0.98      0.98      2443\n",
      "weighted avg       0.99      0.99      0.99      2443\n",
      "\n"
     ]
    }
   ],
   "source": [
    "knn_params_dict={'n_neighbors':list(range(1, 20)), 'p':[1, 2, 3], \n",
    "                'weights': ['uniform', 'distance']}\n",
    "\n",
    "knn_model = KNeighborsClassifier(n_jobs=custom_n_jobs)\n",
    "\n",
    "hpo_knn_accuracy = evaluate_optimisation_model(knn_model, \n",
    "                                               knn_params_dict, \n",
    "                                               x_train, x_test, \n",
    "                                               y_train, y_test, \n",
    "                                               grid_search)"
   ]
  },
  {
   "cell_type": "markdown",
   "metadata": {},
   "source": [
    "#### 5.2 Random Forest Classifier\n",
    "The following parameters will be fine-tuned:\n",
    "- criterion: The function to measure the quality of a split. \n",
    "- n_estimators: The number of trees in the forest.\n",
    "- max_features: The number of features to consider when looking for the best split."
   ]
  },
  {
   "cell_type": "code",
   "execution_count": 52,
   "metadata": {},
   "outputs": [
    {
     "name": "stdout",
     "output_type": "stream",
     "text": [
      "The best RFC accuracy found during optimisation: 0.9663254861821904%\n",
      "The best RFC combination of parameters: {'n_estimators': 200, 'max_features': 'auto', 'criterion': 'entropy'}\n",
      "RFC Accuracy: 97.135%\n",
      "RFC Confusion matrix:\n",
      "Predicted    3    4    5   6    7    8    9   All\n",
      "Actual                                           \n",
      "3          413    2    0   0    1    0    0   416\n",
      "4            0  434    4   0    3    0    0   441\n",
      "5            0    5  225   2    4    0    0   236\n",
      "6            1    1    7  77   22    4    0   112\n",
      "7            0    5    1   1  360    6    0   373\n",
      "8            0    0    0   0    1  417    0   418\n",
      "9            0    0    0   0    0    0  447   447\n",
      "All        414  447  237  80  391  427  447  2443\n",
      "\n",
      "               precision    recall  f1-score   support\n",
      "\n",
      "           3       1.00      0.99      1.00       416\n",
      "           4       0.97      0.98      0.98       441\n",
      "           5       0.95      0.95      0.95       236\n",
      "           6       0.96      0.69      0.80       112\n",
      "           7       0.92      0.97      0.94       373\n",
      "           8       0.98      1.00      0.99       418\n",
      "           9       1.00      1.00      1.00       447\n",
      "\n",
      "   micro avg       0.97      0.97      0.97      2443\n",
      "   macro avg       0.97      0.94      0.95      2443\n",
      "weighted avg       0.97      0.97      0.97      2443\n",
      "\n"
     ]
    }
   ],
   "source": [
    "rfc_params_dict = {'criterion': ['gini', 'entropy'],\n",
    "                  'n_estimators': [100, 200, 300, 400],\n",
    "                  'max_features': ['auto', 'sqrt', 'log2']}\n",
    "\n",
    "rfc_model = RandomForestClassifier(n_jobs=custom_n_jobs, random_state=0)\n",
    "\n",
    "hpo_rfc_accuracy = evaluate_optimisation_model(rfc_model,\n",
    "                                               rfc_params_dict, \n",
    "                                               x_train, x_test, \n",
    "                                               y_train, y_test, \n",
    "                                               grid_search)"
   ]
  },
  {
   "cell_type": "markdown",
   "metadata": {},
   "source": [
    "#### 5.3 Decision Tree Classifier\n",
    "The following parameters will be fine-tuned:\n",
    "- criterion: The function to measure the quality of a split. \n",
    "- max_features: The number of features to consider when looking for the best split.\n",
    "- splitter: The strategy used to choose the split at each node."
   ]
  },
  {
   "cell_type": "code",
   "execution_count": 53,
   "metadata": {},
   "outputs": [
    {
     "name": "stdout",
     "output_type": "stream",
     "text": [
      "The best RFC accuracy found during optimisation: 0.9188331627430911%\n",
      "The best RFC combination of parameters: {'splitter': 'best', 'max_features': None, 'criterion': 'entropy'}\n",
      "RFC Accuracy: 93.164%\n",
      "RFC Confusion matrix:\n",
      "Predicted    3    4    5    6    7    8    9   All\n",
      "Actual                                            \n",
      "3          411    0    2    2    1    0    0   416\n",
      "4            2  410   16    6    1    6    0   441\n",
      "5            3   14  201    8    7    3    0   236\n",
      "6            1    0    8   82   10   10    1   112\n",
      "7            4    4    8    6  322   29    0   373\n",
      "8            0    2    0    2   10  403    1   418\n",
      "9            0    0    0    0    0    0  447   447\n",
      "All        421  430  235  106  351  451  449  2443\n",
      "\n",
      "               precision    recall  f1-score   support\n",
      "\n",
      "           3       0.98      0.99      0.98       416\n",
      "           4       0.95      0.93      0.94       441\n",
      "           5       0.86      0.85      0.85       236\n",
      "           6       0.77      0.73      0.75       112\n",
      "           7       0.92      0.86      0.89       373\n",
      "           8       0.89      0.96      0.93       418\n",
      "           9       1.00      1.00      1.00       447\n",
      "\n",
      "   micro avg       0.93      0.93      0.93      2443\n",
      "   macro avg       0.91      0.90      0.91      2443\n",
      "weighted avg       0.93      0.93      0.93      2443\n",
      "\n"
     ]
    }
   ],
   "source": [
    "dtc_params_dict = {'criterion': ['gini', 'entropy'],\n",
    "                   'max_features': ['auto', 'sqrt', 'log2', None],\n",
    "                   'splitter': ['best', 'random']}\n",
    "\n",
    "dtc_model = DecisionTreeClassifier(random_state=0)\n",
    "\n",
    "hpo_dtc_accuracy = evaluate_optimisation_model(dtc_model, \n",
    "                                               dtc_params_dict, \n",
    "                                               x_train, x_test, \n",
    "                                               y_train, y_test, \n",
    "                                               grid_search)"
   ]
  },
  {
   "cell_type": "markdown",
   "metadata": {},
   "source": [
    "#### 5.4 Evaluation of Optimisation"
   ]
  },
  {
   "cell_type": "code",
   "execution_count": 54,
   "metadata": {},
   "outputs": [
    {
     "data": {
      "text/html": [
       "<div>\n",
       "<style scoped>\n",
       "    .dataframe tbody tr th:only-of-type {\n",
       "        vertical-align: middle;\n",
       "    }\n",
       "\n",
       "    .dataframe tbody tr th {\n",
       "        vertical-align: top;\n",
       "    }\n",
       "\n",
       "    .dataframe thead th {\n",
       "        text-align: right;\n",
       "    }\n",
       "</style>\n",
       "<table border=\"1\" class=\"dataframe\">\n",
       "  <thead>\n",
       "    <tr style=\"text-align: right;\">\n",
       "      <th></th>\n",
       "      <th>Modelling Algorithm</th>\n",
       "      <th>Model Accuracy</th>\n",
       "      <th>Optimised Accuracy</th>\n",
       "      <th>Improvement %</th>\n",
       "    </tr>\n",
       "  </thead>\n",
       "  <tbody>\n",
       "    <tr>\n",
       "      <th>4</th>\n",
       "      <td>K Neighbors Classifier</td>\n",
       "      <td>0.965207</td>\n",
       "      <td>0.991404</td>\n",
       "      <td>2.619730</td>\n",
       "    </tr>\n",
       "    <tr>\n",
       "      <th>7</th>\n",
       "      <td>Random Forest Classifier</td>\n",
       "      <td>0.963160</td>\n",
       "      <td>0.971347</td>\n",
       "      <td>0.818666</td>\n",
       "    </tr>\n",
       "    <tr>\n",
       "      <th>1</th>\n",
       "      <td>Decision Tree Classifier</td>\n",
       "      <td>0.918952</td>\n",
       "      <td>0.931641</td>\n",
       "      <td>1.268932</td>\n",
       "    </tr>\n",
       "  </tbody>\n",
       "</table>\n",
       "</div>"
      ],
      "text/plain": [
       "        Modelling Algorithm  Model Accuracy  Optimised Accuracy  Improvement %\n",
       "4    K Neighbors Classifier        0.965207            0.991404       2.619730\n",
       "7  Random Forest Classifier        0.963160            0.971347       0.818666\n",
       "1  Decision Tree Classifier        0.918952            0.931641       1.268932"
      ]
     },
     "execution_count": 54,
     "metadata": {},
     "output_type": "execute_result"
    }
   ],
   "source": [
    "# Calculate the difference in the prediction accuracy before and after\n",
    "# hyper-parameter optimisation\n",
    "comparison_df = model_data_df.nlargest(3, 'Accuracy')\n",
    "comparison_df = comparison_df.assign(\n",
    "    e=[hpo_knn_accuracy, hpo_rfc_accuracy, hpo_dtc_accuracy])\n",
    "improvement = (comparison_df['e'] - comparison_df['Accuracy']) * 100\n",
    "comparison_df = comparison_df.assign(f=improvement)\n",
    "comparison_df.rename(columns={'Accuracy': 'Model Accuracy',\n",
    "                              'e': 'Optimised Accuracy',\n",
    "                              'f': 'Improvement %'}, inplace=True)\n",
    "comparison_df"
   ]
  }
 ],
 "metadata": {
  "kernelspec": {
   "display_name": "Python 3",
   "language": "python",
   "name": "python3"
  },
  "language_info": {
   "codemirror_mode": {
    "name": "ipython",
    "version": 3
   },
   "file_extension": ".py",
   "mimetype": "text/x-python",
   "name": "python",
   "nbconvert_exporter": "python",
   "pygments_lexer": "ipython3",
   "version": "3.7.0"
  }
 },
 "nbformat": 4,
 "nbformat_minor": 2
}
